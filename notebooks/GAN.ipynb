{
  "nbformat": 4,
  "nbformat_minor": 0,
  "metadata": {
    "colab": {
      "name": "GAN.ipynb",
      "version": "0.3.2",
      "provenance": [],
      "include_colab_link": true
    },
    "kernelspec": {
      "name": "python3",
      "display_name": "Python 3"
    },
    "accelerator": "GPU"
  },
  "cells": [
    {
      "cell_type": "markdown",
      "metadata": {
        "id": "view-in-github",
        "colab_type": "text"
      },
      "source": [
        "<a href=\"https://colab.research.google.com/github/xhxuciedu/CS175/blob/master/GAN.ipynb\" target=\"_parent\"><img src=\"https://colab.research.google.com/assets/colab-badge.svg\" alt=\"Open In Colab\"/></a>"
      ]
    },
    {
      "metadata": {
        "id": "kdjeinjn5Cv7",
        "colab_type": "code",
        "colab": {}
      },
      "cell_type": "code",
      "source": [
        "import os\n",
        "import torch\n",
        "import torchvision\n",
        "import torch.nn as nn\n",
        "from torchvision import transforms\n",
        "from torchvision.utils import save_image\n",
        "import matplotlib.pylab as plt"
      ],
      "execution_count": 0,
      "outputs": []
    },
    {
      "metadata": {
        "id": "OS4KoXyj5Hkp",
        "colab_type": "code",
        "colab": {
          "base_uri": "https://localhost:8080/",
          "height": 34
        },
        "outputId": "f42fd7af-93d1-4bc9-8f90-afc35de359c8"
      },
      "cell_type": "code",
      "source": [
        "# Device configuration\n",
        "device = torch.device('cuda' if torch.cuda.is_available() else 'cpu')\n",
        "print(device)"
      ],
      "execution_count": 2,
      "outputs": [
        {
          "output_type": "stream",
          "text": [
            "cuda\n"
          ],
          "name": "stdout"
        }
      ]
    },
    {
      "metadata": {
        "id": "vnX3yNnH5_YC",
        "colab_type": "code",
        "colab": {
          "base_uri": "https://localhost:8080/",
          "height": 306
        },
        "outputId": "ed4b2b51-34be-4e83-a607-299b0c654858"
      },
      "cell_type": "code",
      "source": [
        "!nvidia-smi"
      ],
      "execution_count": 4,
      "outputs": [
        {
          "output_type": "stream",
          "text": [
            "Wed Mar  6 16:48:32 2019       \n",
            "+-----------------------------------------------------------------------------+\n",
            "| NVIDIA-SMI 410.79       Driver Version: 410.79       CUDA Version: 10.0     |\n",
            "|-------------------------------+----------------------+----------------------+\n",
            "| GPU  Name        Persistence-M| Bus-Id        Disp.A | Volatile Uncorr. ECC |\n",
            "| Fan  Temp  Perf  Pwr:Usage/Cap|         Memory-Usage | GPU-Util  Compute M. |\n",
            "|===============================+======================+======================|\n",
            "|   0  Tesla K80           Off  | 00000000:00:04.0 Off |                    0 |\n",
            "| N/A   33C    P8    30W / 149W |     11MiB / 11441MiB |      0%      Default |\n",
            "+-------------------------------+----------------------+----------------------+\n",
            "                                                                               \n",
            "+-----------------------------------------------------------------------------+\n",
            "| Processes:                                                       GPU Memory |\n",
            "|  GPU       PID   Type   Process name                             Usage      |\n",
            "|=============================================================================|\n",
            "|  No running processes found                                                 |\n",
            "+-----------------------------------------------------------------------------+\n"
          ],
          "name": "stdout"
        }
      ]
    },
    {
      "metadata": {
        "id": "jUHmNlT04rsP",
        "colab_type": "code",
        "colab": {}
      },
      "cell_type": "code",
      "source": [
        "# Hyper-parameters\n",
        "latent_size = 64\n",
        "hidden_size = 256\n",
        "image_size = 784\n",
        "num_epochs = 100\n",
        "batch_size = 100\n",
        "sample_dir = 'samples'\n",
        "\n",
        "# Create a directory if not exists\n",
        "if not os.path.exists(sample_dir):\n",
        "    os.makedirs(sample_dir)\n",
        "\n",
        "# Image processing\n",
        "transform = transforms.Compose([\n",
        "                transforms.ToTensor(),\n",
        "                #transforms.Normalize(mean=(0.5, 0.5, 0.5),   # 3 for RGB channels\n",
        "                #                     std=(0.5, 0.5, 0.5))\n",
        "            ])\n",
        "\n",
        "# MNIST dataset\n",
        "mnist = torchvision.datasets.MNIST(root='../../data/',\n",
        "                                   train=True,\n",
        "                                   transform=transform,\n",
        "                                   download=True)\n",
        "\n",
        "# Data loader\n",
        "data_loader = torch.utils.data.DataLoader(dataset=mnist,\n",
        "                                          batch_size=batch_size, \n",
        "                                          shuffle=True)\n"
      ],
      "execution_count": 0,
      "outputs": []
    },
    {
      "metadata": {
        "id": "AIr_7gD36dx7",
        "colab_type": "code",
        "colab": {}
      },
      "cell_type": "code",
      "source": [
        "tmp = iter(data_loader).next()"
      ],
      "execution_count": 0,
      "outputs": []
    },
    {
      "metadata": {
        "id": "ciKd5iEG81Ie",
        "colab_type": "code",
        "colab": {
          "base_uri": "https://localhost:8080/",
          "height": 34
        },
        "outputId": "1962bcdd-e90e-4ef2-a062-ebfe96e5bac6"
      },
      "cell_type": "code",
      "source": [
        "tmp[0][0,0].min(), tmp[0][0,0].max()"
      ],
      "execution_count": 32,
      "outputs": [
        {
          "output_type": "execute_result",
          "data": {
            "text/plain": [
              "(tensor(0.), tensor(1.))"
            ]
          },
          "metadata": {
            "tags": []
          },
          "execution_count": 32
        }
      ]
    },
    {
      "metadata": {
        "id": "OCMt8Xvp7NOc",
        "colab_type": "code",
        "colab": {
          "base_uri": "https://localhost:8080/",
          "height": 364
        },
        "outputId": "81bc7e8b-0417-466e-e19a-05508edf072a"
      },
      "cell_type": "code",
      "source": [
        "plt.imshow(tmp[0][0,0])"
      ],
      "execution_count": 30,
      "outputs": [
        {
          "output_type": "execute_result",
          "data": {
            "text/plain": [
              "<matplotlib.image.AxesImage at 0x7f6c699ad588>"
            ]
          },
          "metadata": {
            "tags": []
          },
          "execution_count": 30
        },
        {
          "output_type": "display_data",
          "data": {
            "image/png": "[encoded data removed]",
            "text/plain": [
              "<Figure size 576x396 with 1 Axes>"
            ]
          },
          "metadata": {
            "tags": []
          }
        }
      ]
    },
    {
      "metadata": {
        "id": "vKNiRocz5Pkh",
        "colab_type": "code",
        "colab": {}
      },
      "cell_type": "code",
      "source": [
        "# Discriminator\n",
        "D = nn.Sequential(\n",
        "    nn.Linear(image_size, hidden_size),\n",
        "    nn.LeakyReLU(0.2),\n",
        "    nn.Linear(hidden_size, hidden_size),\n",
        "    nn.LeakyReLU(0.2),\n",
        "    nn.Linear(hidden_size, 1),\n",
        "    nn.Sigmoid())\n",
        "\n",
        "# Generator \n",
        "G = nn.Sequential(\n",
        "    nn.Linear(latent_size, hidden_size),\n",
        "    nn.ReLU(),\n",
        "    nn.Linear(hidden_size, hidden_size),\n",
        "    nn.ReLU(),\n",
        "    nn.Linear(hidden_size, image_size),\n",
        "    nn.Sigmoid())\n",
        "\n",
        "# Device setting\n",
        "D = D.to(device)\n",
        "G = G.to(device)"
      ],
      "execution_count": 0,
      "outputs": []
    },
    {
      "metadata": {
        "id": "exK-tvv05Bdx",
        "colab_type": "code",
        "colab": {}
      },
      "cell_type": "code",
      "source": [
        "# Binary cross entropy loss and optimizer\n",
        "criterion = nn.BCELoss()\n",
        "d_optimizer = torch.optim.Adam(D.parameters(), lr=0.0002)\n",
        "g_optimizer = torch.optim.Adam(G.parameters(), lr=0.0002)\n",
        "\n",
        "def denorm(x):\n",
        "    out = (x + 1) / 2\n",
        "    return out.clamp(0, 1)\n",
        "\n",
        "def reset_grad():\n",
        "    d_optimizer.zero_grad()\n",
        "    g_optimizer.zero_grad()"
      ],
      "execution_count": 0,
      "outputs": []
    },
    {
      "metadata": {
        "id": "x8DhYbE249BR",
        "colab_type": "code",
        "colab": {
          "base_uri": "https://localhost:8080/",
          "height": 5117
        },
        "outputId": "4500772b-a645-453e-d341-93aa2f2b5970"
      },
      "cell_type": "code",
      "source": [
        "# Start training\n",
        "total_step = len(data_loader)\n",
        "for epoch in range(num_epochs):\n",
        "    for i, (images, _) in enumerate(data_loader):\n",
        "        images = images.reshape(batch_size, -1).to(device)\n",
        "        \n",
        "        # Create the labels which are later used as input for the BCE loss\n",
        "        real_labels = torch.ones(batch_size, 1).to(device)\n",
        "        fake_labels = torch.zeros(batch_size, 1).to(device)\n",
        "\n",
        "        # ================================================================== #\n",
        "        #                      Train the discriminator                       #\n",
        "        # ================================================================== #\n",
        "\n",
        "        # Compute BCE_Loss using real images where BCE_Loss(x, y): - y * log(D(x)) - (1-y) * log(1 - D(x))\n",
        "        # Second term of the loss is always zero since real_labels == 1\n",
        "        outputs = D(images)\n",
        "        d_loss_real = criterion(outputs, real_labels)\n",
        "        real_score = outputs\n",
        "        \n",
        "        # Compute BCELoss using fake images\n",
        "        # First term of the loss is always zero since fake_labels == 0\n",
        "        z = torch.randn(batch_size, latent_size).to(device)\n",
        "        fake_images = G(z)\n",
        "        outputs = D(fake_images)\n",
        "        d_loss_fake = criterion(outputs, fake_labels)\n",
        "        fake_score = outputs\n",
        "        \n",
        "        # Backprop and optimize\n",
        "        d_loss = d_loss_real + d_loss_fake\n",
        "        reset_grad()\n",
        "        d_loss.backward()\n",
        "        d_optimizer.step()\n",
        "        \n",
        "        # ================================================================== #\n",
        "        #                        Train the generator                         #\n",
        "        # ================================================================== #\n",
        "\n",
        "        # Compute loss with fake images\n",
        "        z = torch.randn(batch_size, latent_size).to(device)\n",
        "        fake_images = G(z)\n",
        "        outputs = D(fake_images)\n",
        "        \n",
        "        # We train G to maximize log(D(G(z)) instead of minimizing log(1-D(G(z)))\n",
        "        # For the reason, see the last paragraph of section 3. https://arxiv.org/pdf/1406.2661.pdf\n",
        "        g_loss = criterion(outputs, real_labels)\n",
        "        \n",
        "        # Backprop and optimize\n",
        "        reset_grad()\n",
        "        g_loss.backward()\n",
        "        g_optimizer.step()\n",
        "        \n",
        "        if (i+1) % 200 == 0:\n",
        "            print('Epoch [{}/{}], Step [{}/{}], d_loss: {:.4f}, g_loss: {:.4f}, D(x): {:.2f}, D(G(z)): {:.2f}' \n",
        "                  .format(epoch, num_epochs, i+1, total_step, d_loss.item(), g_loss.item(), \n",
        "                          real_score.mean().item(), fake_score.mean().item()))\n",
        "    # Save real images\n",
        "    if (epoch+1) == 1:\n",
        "        images = images.reshape(images.size(0), 1, 28, 28)\n",
        "        save_image(denorm(images), os.path.join(sample_dir, 'real_images.png'))\n",
        "    \n",
        "    # Save sampled images\n",
        "    fake_images = fake_images.reshape(fake_images.size(0), 1, 28, 28)\n",
        "    save_image(denorm(fake_images), os.path.join(sample_dir, 'fake_images-{}.png'.format(epoch+1)))\n"
      ],
      "execution_count": 88,
      "outputs": [
        {
          "output_type": "stream",
          "text": [
            "Epoch [0/100], Step [200/600], d_loss: 0.1008, g_loss: 5.1739, D(x): 0.96, D(G(z)): 0.03\n",
            "Epoch [0/100], Step [400/600], d_loss: 0.0527, g_loss: 5.5509, D(x): 0.97, D(G(z)): 0.02\n",
            "Epoch [0/100], Step [600/600], d_loss: 0.0076, g_loss: 6.4549, D(x): 1.00, D(G(z)): 0.01\n",
            "Epoch [1/100], Step [200/600], d_loss: 0.0147, g_loss: 6.0750, D(x): 0.99, D(G(z)): 0.00\n",
            "Epoch [1/100], Step [400/600], d_loss: 0.0037, g_loss: 7.6475, D(x): 1.00, D(G(z)): 0.00\n",
            "Epoch [1/100], Step [600/600], d_loss: 0.0077, g_loss: 7.0799, D(x): 0.99, D(G(z)): 0.00\n",
            "Epoch [2/100], Step [200/600], d_loss: 0.0053, g_loss: 6.8097, D(x): 1.00, D(G(z)): 0.00\n",
            "Epoch [2/100], Step [400/600], d_loss: 0.0011, g_loss: 7.4233, D(x): 1.00, D(G(z)): 0.00\n",
            "Epoch [2/100], Step [600/600], d_loss: 0.0028, g_loss: 6.8359, D(x): 1.00, D(G(z)): 0.00\n",
            "Epoch [3/100], Step [200/600], d_loss: 0.0034, g_loss: 7.9104, D(x): 1.00, D(G(z)): 0.00\n",
            "Epoch [3/100], Step [400/600], d_loss: 0.0040, g_loss: 6.9922, D(x): 1.00, D(G(z)): 0.00\n",
            "Epoch [3/100], Step [600/600], d_loss: 0.0016, g_loss: 7.9302, D(x): 1.00, D(G(z)): 0.00\n",
            "Epoch [4/100], Step [200/600], d_loss: 0.0016, g_loss: 7.1950, D(x): 1.00, D(G(z)): 0.00\n",
            "Epoch [4/100], Step [400/600], d_loss: 0.0038, g_loss: 8.3393, D(x): 1.00, D(G(z)): 0.00\n",
            "Epoch [4/100], Step [600/600], d_loss: 0.0900, g_loss: 6.8359, D(x): 0.99, D(G(z)): 0.00\n",
            "Epoch [5/100], Step [200/600], d_loss: 0.0024, g_loss: 8.0072, D(x): 1.00, D(G(z)): 0.00\n",
            "Epoch [5/100], Step [400/600], d_loss: 0.0106, g_loss: 7.8951, D(x): 1.00, D(G(z)): 0.01\n",
            "Epoch [5/100], Step [600/600], d_loss: 0.0134, g_loss: 5.5965, D(x): 1.00, D(G(z)): 0.01\n",
            "Epoch [6/100], Step [200/600], d_loss: 0.0213, g_loss: 8.2819, D(x): 0.99, D(G(z)): 0.00\n",
            "Epoch [6/100], Step [400/600], d_loss: 0.0050, g_loss: 8.8998, D(x): 1.00, D(G(z)): 0.00\n",
            "Epoch [6/100], Step [600/600], d_loss: 0.0528, g_loss: 6.7925, D(x): 0.99, D(G(z)): 0.01\n",
            "Epoch [7/100], Step [200/600], d_loss: 0.0506, g_loss: 8.4189, D(x): 0.99, D(G(z)): 0.00\n",
            "Epoch [7/100], Step [400/600], d_loss: 0.0332, g_loss: 10.8815, D(x): 0.98, D(G(z)): 0.00\n",
            "Epoch [7/100], Step [600/600], d_loss: 0.0026, g_loss: 8.0379, D(x): 1.00, D(G(z)): 0.00\n",
            "Epoch [8/100], Step [200/600], d_loss: 0.0051, g_loss: 7.5680, D(x): 1.00, D(G(z)): 0.00\n",
            "Epoch [8/100], Step [400/600], d_loss: 0.0026, g_loss: 9.1343, D(x): 1.00, D(G(z)): 0.00\n",
            "Epoch [8/100], Step [600/600], d_loss: 0.0064, g_loss: 7.6654, D(x): 1.00, D(G(z)): 0.01\n",
            "Epoch [9/100], Step [200/600], d_loss: 0.0004, g_loss: 13.3029, D(x): 1.00, D(G(z)): 0.00\n",
            "Epoch [9/100], Step [400/600], d_loss: 0.0020, g_loss: 9.8236, D(x): 1.00, D(G(z)): 0.00\n",
            "Epoch [9/100], Step [600/600], d_loss: 0.0028, g_loss: 8.3321, D(x): 1.00, D(G(z)): 0.00\n",
            "Epoch [10/100], Step [200/600], d_loss: 0.0048, g_loss: 9.1185, D(x): 1.00, D(G(z)): 0.00\n",
            "Epoch [10/100], Step [400/600], d_loss: 0.0130, g_loss: 8.8143, D(x): 1.00, D(G(z)): 0.01\n",
            "Epoch [10/100], Step [600/600], d_loss: 0.0953, g_loss: 9.8562, D(x): 0.99, D(G(z)): 0.01\n",
            "Epoch [11/100], Step [200/600], d_loss: 0.0056, g_loss: 8.7918, D(x): 1.00, D(G(z)): 0.00\n",
            "Epoch [11/100], Step [400/600], d_loss: 0.0034, g_loss: 8.1368, D(x): 1.00, D(G(z)): 0.00\n",
            "Epoch [11/100], Step [600/600], d_loss: 0.0016, g_loss: 8.3880, D(x): 1.00, D(G(z)): 0.00\n",
            "Epoch [12/100], Step [200/600], d_loss: 0.0031, g_loss: 9.3997, D(x): 1.00, D(G(z)): 0.00\n",
            "Epoch [12/100], Step [400/600], d_loss: 0.0189, g_loss: 7.7264, D(x): 1.00, D(G(z)): 0.02\n",
            "Epoch [12/100], Step [600/600], d_loss: 0.0049, g_loss: 8.8293, D(x): 1.00, D(G(z)): 0.00\n",
            "Epoch [13/100], Step [200/600], d_loss: 0.0115, g_loss: 7.8911, D(x): 1.00, D(G(z)): 0.01\n",
            "Epoch [13/100], Step [400/600], d_loss: 0.0035, g_loss: 9.7858, D(x): 1.00, D(G(z)): 0.00\n",
            "Epoch [13/100], Step [600/600], d_loss: 0.1103, g_loss: 8.4985, D(x): 0.98, D(G(z)): 0.01\n",
            "Epoch [14/100], Step [200/600], d_loss: 0.0030, g_loss: 10.8350, D(x): 1.00, D(G(z)): 0.00\n",
            "Epoch [14/100], Step [400/600], d_loss: 0.0690, g_loss: 10.3492, D(x): 0.98, D(G(z)): 0.01\n",
            "Epoch [14/100], Step [600/600], d_loss: 0.0029, g_loss: 10.1529, D(x): 1.00, D(G(z)): 0.00\n",
            "Epoch [15/100], Step [200/600], d_loss: 0.0044, g_loss: 10.0873, D(x): 1.00, D(G(z)): 0.00\n",
            "Epoch [15/100], Step [400/600], d_loss: 0.0128, g_loss: 9.5167, D(x): 1.00, D(G(z)): 0.01\n",
            "Epoch [15/100], Step [600/600], d_loss: 0.0303, g_loss: 11.7872, D(x): 1.00, D(G(z)): 0.02\n",
            "Epoch [16/100], Step [200/600], d_loss: 0.0142, g_loss: 8.9719, D(x): 0.99, D(G(z)): 0.00\n",
            "Epoch [16/100], Step [400/600], d_loss: 0.0064, g_loss: 10.9662, D(x): 1.00, D(G(z)): 0.00\n",
            "Epoch [16/100], Step [600/600], d_loss: 0.0056, g_loss: 11.5043, D(x): 1.00, D(G(z)): 0.00\n",
            "Epoch [17/100], Step [200/600], d_loss: 0.0434, g_loss: 8.6041, D(x): 1.00, D(G(z)): 0.03\n",
            "Epoch [17/100], Step [400/600], d_loss: 0.0074, g_loss: 9.4412, D(x): 1.00, D(G(z)): 0.01\n",
            "Epoch [17/100], Step [600/600], d_loss: 0.0094, g_loss: 10.8689, D(x): 0.99, D(G(z)): 0.00\n",
            "Epoch [18/100], Step [200/600], d_loss: 0.0514, g_loss: 8.5364, D(x): 0.98, D(G(z)): 0.01\n",
            "Epoch [18/100], Step [400/600], d_loss: 0.0285, g_loss: 7.7414, D(x): 0.99, D(G(z)): 0.01\n",
            "Epoch [18/100], Step [600/600], d_loss: 0.0510, g_loss: 8.5734, D(x): 0.98, D(G(z)): 0.02\n",
            "Epoch [19/100], Step [200/600], d_loss: 0.0134, g_loss: 8.1409, D(x): 0.99, D(G(z)): 0.00\n",
            "Epoch [19/100], Step [400/600], d_loss: 0.0048, g_loss: 9.4529, D(x): 1.00, D(G(z)): 0.00\n",
            "Epoch [19/100], Step [600/600], d_loss: 0.0295, g_loss: 8.2771, D(x): 0.99, D(G(z)): 0.02\n",
            "Epoch [20/100], Step [200/600], d_loss: 0.0437, g_loss: 9.3519, D(x): 0.98, D(G(z)): 0.00\n",
            "Epoch [20/100], Step [400/600], d_loss: 0.0094, g_loss: 8.2323, D(x): 1.00, D(G(z)): 0.01\n",
            "Epoch [20/100], Step [600/600], d_loss: 0.0839, g_loss: 6.3523, D(x): 0.99, D(G(z)): 0.04\n",
            "Epoch [21/100], Step [200/600], d_loss: 0.0277, g_loss: 8.4672, D(x): 0.99, D(G(z)): 0.01\n",
            "Epoch [21/100], Step [400/600], d_loss: 0.0982, g_loss: 7.3080, D(x): 0.97, D(G(z)): 0.02\n",
            "Epoch [21/100], Step [600/600], d_loss: 0.0729, g_loss: 6.7144, D(x): 0.97, D(G(z)): 0.01\n",
            "Epoch [22/100], Step [200/600], d_loss: 0.0892, g_loss: 9.5280, D(x): 0.97, D(G(z)): 0.00\n",
            "Epoch [22/100], Step [400/600], d_loss: 0.0718, g_loss: 5.3394, D(x): 0.99, D(G(z)): 0.03\n",
            "Epoch [22/100], Step [600/600], d_loss: 0.0324, g_loss: 8.0341, D(x): 0.99, D(G(z)): 0.02\n",
            "Epoch [23/100], Step [200/600], d_loss: 0.0556, g_loss: 9.3629, D(x): 0.99, D(G(z)): 0.00\n",
            "Epoch [23/100], Step [400/600], d_loss: 0.0872, g_loss: 8.3857, D(x): 0.98, D(G(z)): 0.04\n",
            "Epoch [23/100], Step [600/600], d_loss: 0.0810, g_loss: 7.7981, D(x): 0.99, D(G(z)): 0.04\n",
            "Epoch [24/100], Step [200/600], d_loss: 0.1652, g_loss: 7.2693, D(x): 0.94, D(G(z)): 0.01\n",
            "Epoch [24/100], Step [400/600], d_loss: 0.1151, g_loss: 7.9621, D(x): 0.97, D(G(z)): 0.02\n",
            "Epoch [24/100], Step [600/600], d_loss: 0.1738, g_loss: 5.0638, D(x): 0.97, D(G(z)): 0.07\n",
            "Epoch [25/100], Step [200/600], d_loss: 0.0553, g_loss: 7.1174, D(x): 0.98, D(G(z)): 0.02\n",
            "Epoch [25/100], Step [400/600], d_loss: 0.0869, g_loss: 6.5959, D(x): 0.97, D(G(z)): 0.02\n",
            "Epoch [25/100], Step [600/600], d_loss: 0.0668, g_loss: 6.2283, D(x): 0.97, D(G(z)): 0.02\n",
            "Epoch [26/100], Step [200/600], d_loss: 0.1286, g_loss: 6.4935, D(x): 0.97, D(G(z)): 0.04\n",
            "Epoch [26/100], Step [400/600], d_loss: 0.0526, g_loss: 7.8955, D(x): 0.97, D(G(z)): 0.01\n",
            "Epoch [26/100], Step [600/600], d_loss: 0.1293, g_loss: 6.9853, D(x): 0.96, D(G(z)): 0.03\n",
            "Epoch [27/100], Step [200/600], d_loss: 0.0658, g_loss: 7.3013, D(x): 0.98, D(G(z)): 0.02\n",
            "Epoch [27/100], Step [400/600], d_loss: 0.1788, g_loss: 7.5945, D(x): 0.96, D(G(z)): 0.03\n",
            "Epoch [27/100], Step [600/600], d_loss: 0.1067, g_loss: 7.9286, D(x): 0.97, D(G(z)): 0.04\n",
            "Epoch [28/100], Step [200/600], d_loss: 0.1015, g_loss: 6.6261, D(x): 0.96, D(G(z)): 0.02\n",
            "Epoch [28/100], Step [400/600], d_loss: 0.1492, g_loss: 5.4186, D(x): 0.98, D(G(z)): 0.06\n",
            "Epoch [28/100], Step [600/600], d_loss: 0.1363, g_loss: 5.4514, D(x): 0.95, D(G(z)): 0.03\n",
            "Epoch [29/100], Step [200/600], d_loss: 0.1745, g_loss: 5.1164, D(x): 0.96, D(G(z)): 0.04\n",
            "Epoch [29/100], Step [400/600], d_loss: 0.1686, g_loss: 5.7701, D(x): 0.96, D(G(z)): 0.04\n",
            "Epoch [29/100], Step [600/600], d_loss: 0.2057, g_loss: 6.3460, D(x): 0.94, D(G(z)): 0.02\n",
            "Epoch [30/100], Step [200/600], d_loss: 0.1669, g_loss: 5.6029, D(x): 0.95, D(G(z)): 0.05\n",
            "Epoch [30/100], Step [400/600], d_loss: 0.1867, g_loss: 4.6411, D(x): 0.98, D(G(z)): 0.07\n",
            "Epoch [30/100], Step [600/600], d_loss: 0.2044, g_loss: 5.6567, D(x): 0.94, D(G(z)): 0.04\n",
            "Epoch [31/100], Step [200/600], d_loss: 0.2095, g_loss: 4.5614, D(x): 0.95, D(G(z)): 0.06\n",
            "Epoch [31/100], Step [400/600], d_loss: 0.1442, g_loss: 6.4367, D(x): 0.94, D(G(z)): 0.01\n",
            "Epoch [31/100], Step [600/600], d_loss: 0.1679, g_loss: 5.1719, D(x): 0.96, D(G(z)): 0.06\n",
            "Epoch [32/100], Step [200/600], d_loss: 0.1702, g_loss: 4.9114, D(x): 0.94, D(G(z)): 0.03\n",
            "Epoch [32/100], Step [400/600], d_loss: 0.1629, g_loss: 5.6812, D(x): 0.95, D(G(z)): 0.05\n",
            "Epoch [32/100], Step [600/600], d_loss: 0.1509, g_loss: 4.5323, D(x): 0.96, D(G(z)): 0.06\n",
            "Epoch [33/100], Step [200/600], d_loss: 0.2441, g_loss: 4.1325, D(x): 0.93, D(G(z)): 0.05\n",
            "Epoch [33/100], Step [400/600], d_loss: 0.2840, g_loss: 4.7080, D(x): 0.93, D(G(z)): 0.08\n",
            "Epoch [33/100], Step [600/600], d_loss: 0.3234, g_loss: 5.6989, D(x): 0.89, D(G(z)): 0.04\n",
            "Epoch [34/100], Step [200/600], d_loss: 0.2508, g_loss: 4.8192, D(x): 0.91, D(G(z)): 0.05\n",
            "Epoch [34/100], Step [400/600], d_loss: 0.1974, g_loss: 3.9917, D(x): 0.94, D(G(z)): 0.06\n",
            "Epoch [34/100], Step [600/600], d_loss: 0.1880, g_loss: 4.5975, D(x): 0.94, D(G(z)): 0.05\n",
            "Epoch [35/100], Step [200/600], d_loss: 0.2093, g_loss: 4.3932, D(x): 0.95, D(G(z)): 0.07\n",
            "Epoch [35/100], Step [400/600], d_loss: 0.1730, g_loss: 5.0684, D(x): 0.96, D(G(z)): 0.06\n",
            "Epoch [35/100], Step [600/600], d_loss: 0.3445, g_loss: 4.9109, D(x): 0.90, D(G(z)): 0.07\n",
            "Epoch [36/100], Step [200/600], d_loss: 0.2845, g_loss: 3.5769, D(x): 0.96, D(G(z)): 0.14\n",
            "Epoch [36/100], Step [400/600], d_loss: 0.3682, g_loss: 3.7237, D(x): 0.93, D(G(z)): 0.10\n",
            "Epoch [36/100], Step [600/600], d_loss: 0.1672, g_loss: 3.8570, D(x): 0.94, D(G(z)): 0.07\n",
            "Epoch [37/100], Step [200/600], d_loss: 0.3059, g_loss: 3.8927, D(x): 0.93, D(G(z)): 0.11\n",
            "Epoch [37/100], Step [400/600], d_loss: 0.1803, g_loss: 3.8278, D(x): 0.94, D(G(z)): 0.07\n",
            "Epoch [37/100], Step [600/600], d_loss: 0.2596, g_loss: 3.9935, D(x): 0.92, D(G(z)): 0.09\n",
            "Epoch [38/100], Step [200/600], d_loss: 0.4144, g_loss: 3.1132, D(x): 0.89, D(G(z)): 0.13\n",
            "Epoch [38/100], Step [400/600], d_loss: 0.1789, g_loss: 3.6983, D(x): 0.95, D(G(z)): 0.08\n",
            "Epoch [38/100], Step [600/600], d_loss: 0.2543, g_loss: 3.4958, D(x): 0.92, D(G(z)): 0.08\n",
            "Epoch [39/100], Step [200/600], d_loss: 0.3797, g_loss: 3.6570, D(x): 0.88, D(G(z)): 0.10\n",
            "Epoch [39/100], Step [400/600], d_loss: 0.5157, g_loss: 3.6593, D(x): 0.84, D(G(z)): 0.10\n",
            "Epoch [39/100], Step [600/600], d_loss: 0.3598, g_loss: 2.9552, D(x): 0.91, D(G(z)): 0.14\n",
            "Epoch [40/100], Step [200/600], d_loss: 0.6531, g_loss: 2.6977, D(x): 0.79, D(G(z)): 0.11\n",
            "Epoch [40/100], Step [400/600], d_loss: 0.3471, g_loss: 2.6897, D(x): 0.90, D(G(z)): 0.14\n",
            "Epoch [40/100], Step [600/600], d_loss: 0.2281, g_loss: 3.2860, D(x): 0.92, D(G(z)): 0.08\n",
            "Epoch [41/100], Step [200/600], d_loss: 0.4196, g_loss: 3.6391, D(x): 0.89, D(G(z)): 0.12\n",
            "Epoch [41/100], Step [400/600], d_loss: 0.3350, g_loss: 3.2942, D(x): 0.92, D(G(z)): 0.14\n",
            "Epoch [41/100], Step [600/600], d_loss: 0.5350, g_loss: 2.7631, D(x): 0.87, D(G(z)): 0.18\n",
            "Epoch [42/100], Step [200/600], d_loss: 0.4336, g_loss: 3.1597, D(x): 0.89, D(G(z)): 0.13\n",
            "Epoch [42/100], Step [400/600], d_loss: 0.4221, g_loss: 2.7815, D(x): 0.86, D(G(z)): 0.13\n",
            "Epoch [42/100], Step [600/600], d_loss: 0.3263, g_loss: 3.3617, D(x): 0.88, D(G(z)): 0.10\n",
            "Epoch [43/100], Step [200/600], d_loss: 0.4604, g_loss: 2.8950, D(x): 0.89, D(G(z)): 0.17\n",
            "Epoch [43/100], Step [400/600], d_loss: 0.2681, g_loss: 4.0987, D(x): 0.91, D(G(z)): 0.09\n",
            "Epoch [43/100], Step [600/600], d_loss: 0.4417, g_loss: 3.0060, D(x): 0.87, D(G(z)): 0.12\n",
            "Epoch [44/100], Step [200/600], d_loss: 0.4479, g_loss: 3.9001, D(x): 0.88, D(G(z)): 0.13\n",
            "Epoch [44/100], Step [400/600], d_loss: 0.7829, g_loss: 3.8171, D(x): 0.75, D(G(z)): 0.07\n",
            "Epoch [44/100], Step [600/600], d_loss: 0.5552, g_loss: 2.9691, D(x): 0.81, D(G(z)): 0.09\n",
            "Epoch [45/100], Step [200/600], d_loss: 0.5285, g_loss: 3.3371, D(x): 0.82, D(G(z)): 0.12\n",
            "Epoch [45/100], Step [400/600], d_loss: 0.4470, g_loss: 3.0104, D(x): 0.86, D(G(z)): 0.13\n",
            "Epoch [45/100], Step [600/600], d_loss: 0.4290, g_loss: 3.4070, D(x): 0.84, D(G(z)): 0.08\n",
            "Epoch [46/100], Step [200/600], d_loss: 0.4585, g_loss: 3.6160, D(x): 0.87, D(G(z)): 0.11\n",
            "Epoch [46/100], Step [400/600], d_loss: 0.4891, g_loss: 2.6536, D(x): 0.87, D(G(z)): 0.19\n",
            "Epoch [46/100], Step [600/600], d_loss: 0.4791, g_loss: 2.9681, D(x): 0.86, D(G(z)): 0.15\n",
            "Epoch [47/100], Step [200/600], d_loss: 0.4422, g_loss: 3.2949, D(x): 0.86, D(G(z)): 0.14\n",
            "Epoch [47/100], Step [400/600], d_loss: 0.5234, g_loss: 2.7358, D(x): 0.81, D(G(z)): 0.12\n",
            "Epoch [47/100], Step [600/600], d_loss: 0.4924, g_loss: 3.4781, D(x): 0.82, D(G(z)): 0.09\n",
            "Epoch [48/100], Step [200/600], d_loss: 0.6102, g_loss: 2.7687, D(x): 0.81, D(G(z)): 0.18\n",
            "Epoch [48/100], Step [400/600], d_loss: 0.5969, g_loss: 3.2726, D(x): 0.82, D(G(z)): 0.15\n",
            "Epoch [48/100], Step [600/600], d_loss: 0.5076, g_loss: 2.3175, D(x): 0.85, D(G(z)): 0.18\n",
            "Epoch [49/100], Step [200/600], d_loss: 0.5149, g_loss: 2.8064, D(x): 0.80, D(G(z)): 0.11\n",
            "Epoch [49/100], Step [400/600], d_loss: 0.3812, g_loss: 2.4577, D(x): 0.87, D(G(z)): 0.13\n",
            "Epoch [49/100], Step [600/600], d_loss: 0.6764, g_loss: 1.8965, D(x): 0.77, D(G(z)): 0.18\n",
            "Epoch [50/100], Step [200/600], d_loss: 0.4830, g_loss: 2.7019, D(x): 0.86, D(G(z)): 0.18\n",
            "Epoch [50/100], Step [400/600], d_loss: 0.6074, g_loss: 2.5020, D(x): 0.84, D(G(z)): 0.18\n",
            "Epoch [50/100], Step [600/600], d_loss: 0.6251, g_loss: 2.4666, D(x): 0.81, D(G(z)): 0.17\n",
            "Epoch [51/100], Step [200/600], d_loss: 0.4417, g_loss: 2.4388, D(x): 0.87, D(G(z)): 0.19\n",
            "Epoch [51/100], Step [400/600], d_loss: 0.5649, g_loss: 2.1447, D(x): 0.81, D(G(z)): 0.18\n",
            "Epoch [51/100], Step [600/600], d_loss: 0.4628, g_loss: 2.1053, D(x): 0.81, D(G(z)): 0.11\n",
            "Epoch [52/100], Step [200/600], d_loss: 0.4861, g_loss: 2.3633, D(x): 0.82, D(G(z)): 0.14\n",
            "Epoch [52/100], Step [400/600], d_loss: 0.5172, g_loss: 2.6917, D(x): 0.86, D(G(z)): 0.20\n",
            "Epoch [52/100], Step [600/600], d_loss: 0.5032, g_loss: 2.6181, D(x): 0.86, D(G(z)): 0.15\n",
            "Epoch [53/100], Step [200/600], d_loss: 0.4302, g_loss: 2.3829, D(x): 0.86, D(G(z)): 0.15\n",
            "Epoch [53/100], Step [400/600], d_loss: 0.2768, g_loss: 3.2607, D(x): 0.91, D(G(z)): 0.11\n",
            "Epoch [53/100], Step [600/600], d_loss: 0.4058, g_loss: 3.0791, D(x): 0.85, D(G(z)): 0.11\n",
            "Epoch [54/100], Step [200/600], d_loss: 0.5156, g_loss: 2.7662, D(x): 0.86, D(G(z)): 0.17\n",
            "Epoch [54/100], Step [400/600], d_loss: 0.4758, g_loss: 2.7204, D(x): 0.85, D(G(z)): 0.16\n",
            "Epoch [54/100], Step [600/600], d_loss: 0.4720, g_loss: 2.9252, D(x): 0.83, D(G(z)): 0.14\n",
            "Epoch [55/100], Step [200/600], d_loss: 0.5095, g_loss: 2.3826, D(x): 0.84, D(G(z)): 0.17\n",
            "Epoch [55/100], Step [400/600], d_loss: 0.5021, g_loss: 2.3115, D(x): 0.85, D(G(z)): 0.18\n",
            "Epoch [55/100], Step [600/600], d_loss: 0.5482, g_loss: 2.0412, D(x): 0.86, D(G(z)): 0.23\n",
            "Epoch [56/100], Step [200/600], d_loss: 0.7519, g_loss: 1.9054, D(x): 0.85, D(G(z)): 0.24\n",
            "Epoch [56/100], Step [400/600], d_loss: 0.5228, g_loss: 2.2777, D(x): 0.84, D(G(z)): 0.20\n",
            "Epoch [56/100], Step [600/600], d_loss: 0.6405, g_loss: 2.5092, D(x): 0.77, D(G(z)): 0.17\n",
            "Epoch [57/100], Step [200/600], d_loss: 0.5383, g_loss: 1.8625, D(x): 0.84, D(G(z)): 0.22\n",
            "Epoch [57/100], Step [400/600], d_loss: 0.5609, g_loss: 2.1353, D(x): 0.83, D(G(z)): 0.18\n",
            "Epoch [57/100], Step [600/600], d_loss: 0.6033, g_loss: 2.9284, D(x): 0.75, D(G(z)): 0.09\n",
            "Epoch [58/100], Step [200/600], d_loss: 0.7112, g_loss: 2.2265, D(x): 0.80, D(G(z)): 0.24\n",
            "Epoch [58/100], Step [400/600], d_loss: 0.6228, g_loss: 1.6015, D(x): 0.81, D(G(z)): 0.22\n",
            "Epoch [58/100], Step [600/600], d_loss: 0.5534, g_loss: 2.6231, D(x): 0.77, D(G(z)): 0.12\n",
            "Epoch [59/100], Step [200/600], d_loss: 0.7606, g_loss: 2.0717, D(x): 0.71, D(G(z)): 0.14\n",
            "Epoch [59/100], Step [400/600], d_loss: 0.5015, g_loss: 2.3064, D(x): 0.85, D(G(z)): 0.20\n",
            "Epoch [59/100], Step [600/600], d_loss: 0.2809, g_loss: 3.3880, D(x): 0.92, D(G(z)): 0.11\n",
            "Epoch [60/100], Step [200/600], d_loss: 0.5724, g_loss: 2.4443, D(x): 0.79, D(G(z)): 0.14\n",
            "Epoch [60/100], Step [400/600], d_loss: 1.5641, g_loss: 1.9398, D(x): 0.62, D(G(z)): 0.27\n",
            "Epoch [60/100], Step [600/600], d_loss: 0.4115, g_loss: 4.6525, D(x): 0.87, D(G(z)): 0.10\n",
            "Epoch [61/100], Step [200/600], d_loss: 0.4370, g_loss: 2.7531, D(x): 0.85, D(G(z)): 0.15\n",
            "Epoch [61/100], Step [400/600], d_loss: 0.5946, g_loss: 3.1486, D(x): 0.83, D(G(z)): 0.18\n",
            "Epoch [61/100], Step [600/600], d_loss: 0.5978, g_loss: 2.4896, D(x): 0.81, D(G(z)): 0.18\n",
            "Epoch [62/100], Step [200/600], d_loss: 0.6471, g_loss: 1.9926, D(x): 0.82, D(G(z)): 0.24\n",
            "Epoch [62/100], Step [400/600], d_loss: 0.4038, g_loss: 2.5687, D(x): 0.87, D(G(z)): 0.15\n",
            "Epoch [62/100], Step [600/600], d_loss: 0.4629, g_loss: 2.6777, D(x): 0.85, D(G(z)): 0.17\n",
            "Epoch [63/100], Step [200/600], d_loss: 0.7867, g_loss: 2.1285, D(x): 0.74, D(G(z)): 0.21\n",
            "Epoch [63/100], Step [400/600], d_loss: 0.6961, g_loss: 2.7380, D(x): 0.74, D(G(z)): 0.13\n",
            "Epoch [63/100], Step [600/600], d_loss: 0.6875, g_loss: 2.3823, D(x): 0.76, D(G(z)): 0.16\n",
            "Epoch [64/100], Step [200/600], d_loss: 0.5148, g_loss: 2.1050, D(x): 0.83, D(G(z)): 0.17\n",
            "Epoch [64/100], Step [400/600], d_loss: 0.6307, g_loss: 2.1845, D(x): 0.82, D(G(z)): 0.21\n",
            "Epoch [64/100], Step [600/600], d_loss: 0.7859, g_loss: 1.5890, D(x): 0.74, D(G(z)): 0.24\n",
            "Epoch [65/100], Step [200/600], d_loss: 0.5305, g_loss: 2.0091, D(x): 0.84, D(G(z)): 0.21\n",
            "Epoch [65/100], Step [400/600], d_loss: 0.5564, g_loss: 2.0512, D(x): 0.84, D(G(z)): 0.20\n",
            "Epoch [65/100], Step [600/600], d_loss: 0.4117, g_loss: 2.8418, D(x): 0.85, D(G(z)): 0.14\n",
            "Epoch [66/100], Step [200/600], d_loss: 0.4703, g_loss: 2.0560, D(x): 0.87, D(G(z)): 0.20\n",
            "Epoch [66/100], Step [400/600], d_loss: 0.6469, g_loss: 2.2774, D(x): 0.80, D(G(z)): 0.20\n",
            "Epoch [66/100], Step [600/600], d_loss: 0.6059, g_loss: 2.2741, D(x): 0.82, D(G(z)): 0.19\n",
            "Epoch [67/100], Step [200/600], d_loss: 0.6779, g_loss: 2.3395, D(x): 0.79, D(G(z)): 0.20\n",
            "Epoch [67/100], Step [400/600], d_loss: 0.5087, g_loss: 2.5057, D(x): 0.88, D(G(z)): 0.22\n",
            "Epoch [67/100], Step [600/600], d_loss: 0.5457, g_loss: 1.9151, D(x): 0.84, D(G(z)): 0.21\n",
            "Epoch [68/100], Step [200/600], d_loss: 0.6822, g_loss: 2.1177, D(x): 0.78, D(G(z)): 0.21\n",
            "Epoch [68/100], Step [400/600], d_loss: 0.6152, g_loss: 1.7001, D(x): 0.80, D(G(z)): 0.21\n",
            "Epoch [68/100], Step [600/600], d_loss: 0.5531, g_loss: 1.9473, D(x): 0.80, D(G(z)): 0.19\n",
            "Epoch [69/100], Step [200/600], d_loss: 0.7968, g_loss: 2.2564, D(x): 0.73, D(G(z)): 0.21\n",
            "Epoch [69/100], Step [400/600], d_loss: 0.5226, g_loss: 1.9274, D(x): 0.84, D(G(z)): 0.22\n",
            "Epoch [69/100], Step [600/600], d_loss: 0.3708, g_loss: 2.0184, D(x): 0.92, D(G(z)): 0.18\n",
            "Epoch [70/100], Step [200/600], d_loss: 0.6196, g_loss: 2.0480, D(x): 0.82, D(G(z)): 0.23\n",
            "Epoch [70/100], Step [400/600], d_loss: 0.5382, g_loss: 2.2542, D(x): 0.81, D(G(z)): 0.17\n",
            "Epoch [70/100], Step [600/600], d_loss: 0.6514, g_loss: 1.7635, D(x): 0.86, D(G(z)): 0.30\n",
            "Epoch [71/100], Step [200/600], d_loss: 0.6557, g_loss: 1.6561, D(x): 0.86, D(G(z)): 0.29\n",
            "Epoch [71/100], Step [400/600], d_loss: 0.6437, g_loss: 1.9658, D(x): 0.78, D(G(z)): 0.20\n",
            "Epoch [71/100], Step [600/600], d_loss: 0.7006, g_loss: 1.6099, D(x): 0.80, D(G(z)): 0.27\n",
            "Epoch [72/100], Step [200/600], d_loss: 0.5523, g_loss: 2.3764, D(x): 0.83, D(G(z)): 0.20\n",
            "Epoch [72/100], Step [400/600], d_loss: 0.5028, g_loss: 1.9362, D(x): 0.83, D(G(z)): 0.18\n",
            "Epoch [72/100], Step [600/600], d_loss: 0.5804, g_loss: 2.4366, D(x): 0.80, D(G(z)): 0.17\n",
            "Epoch [73/100], Step [200/600], d_loss: 0.5955, g_loss: 2.0025, D(x): 0.81, D(G(z)): 0.21\n",
            "Epoch [73/100], Step [400/600], d_loss: 0.8151, g_loss: 2.1223, D(x): 0.70, D(G(z)): 0.22\n",
            "Epoch [73/100], Step [600/600], d_loss: 1.0057, g_loss: 1.7880, D(x): 0.66, D(G(z)): 0.23\n",
            "Epoch [74/100], Step [200/600], d_loss: 0.7140, g_loss: 2.0269, D(x): 0.80, D(G(z)): 0.26\n",
            "Epoch [74/100], Step [400/600], d_loss: 0.6217, g_loss: 2.7184, D(x): 0.79, D(G(z)): 0.19\n",
            "Epoch [74/100], Step [600/600], d_loss: 0.6767, g_loss: 2.4392, D(x): 0.74, D(G(z)): 0.15\n",
            "Epoch [75/100], Step [200/600], d_loss: 0.5062, g_loss: 1.5651, D(x): 0.86, D(G(z)): 0.22\n",
            "Epoch [75/100], Step [400/600], d_loss: 0.5895, g_loss: 2.0805, D(x): 0.76, D(G(z)): 0.17\n",
            "Epoch [75/100], Step [600/600], d_loss: 0.5493, g_loss: 2.4116, D(x): 0.79, D(G(z)): 0.16\n",
            "Epoch [76/100], Step [200/600], d_loss: 0.6258, g_loss: 2.2642, D(x): 0.75, D(G(z)): 0.17\n",
            "Epoch [76/100], Step [400/600], d_loss: 0.4494, g_loss: 2.4918, D(x): 0.84, D(G(z)): 0.17\n",
            "Epoch [76/100], Step [600/600], d_loss: 0.6762, g_loss: 1.7043, D(x): 0.79, D(G(z)): 0.24\n",
            "Epoch [77/100], Step [200/600], d_loss: 0.5657, g_loss: 1.6439, D(x): 0.84, D(G(z)): 0.24\n",
            "Epoch [77/100], Step [400/600], d_loss: 0.6105, g_loss: 1.9871, D(x): 0.81, D(G(z)): 0.22\n",
            "Epoch [77/100], Step [600/600], d_loss: 0.5740, g_loss: 2.0836, D(x): 0.79, D(G(z)): 0.19\n",
            "Epoch [78/100], Step [200/600], d_loss: 0.4635, g_loss: 1.9305, D(x): 0.85, D(G(z)): 0.21\n",
            "Epoch [78/100], Step [400/600], d_loss: 0.6774, g_loss: 1.8656, D(x): 0.75, D(G(z)): 0.19\n",
            "Epoch [78/100], Step [600/600], d_loss: 0.6459, g_loss: 2.1146, D(x): 0.82, D(G(z)): 0.25\n",
            "Epoch [79/100], Step [200/600], d_loss: 0.7160, g_loss: 1.8669, D(x): 0.80, D(G(z)): 0.25\n",
            "Epoch [79/100], Step [400/600], d_loss: 0.5519, g_loss: 1.9849, D(x): 0.85, D(G(z)): 0.19\n",
            "Epoch [79/100], Step [600/600], d_loss: 0.6691, g_loss: 2.0649, D(x): 0.75, D(G(z)): 0.18\n",
            "Epoch [80/100], Step [200/600], d_loss: 0.7878, g_loss: 1.8008, D(x): 0.80, D(G(z)): 0.30\n",
            "Epoch [80/100], Step [400/600], d_loss: 0.7295, g_loss: 1.7326, D(x): 0.77, D(G(z)): 0.23\n",
            "Epoch [80/100], Step [600/600], d_loss: 0.7084, g_loss: 2.7643, D(x): 0.76, D(G(z)): 0.14\n",
            "Epoch [81/100], Step [200/600], d_loss: 0.6525, g_loss: 1.9356, D(x): 0.80, D(G(z)): 0.23\n",
            "Epoch [81/100], Step [400/600], d_loss: 0.5760, g_loss: 2.4926, D(x): 0.78, D(G(z)): 0.15\n",
            "Epoch [81/100], Step [600/600], d_loss: 0.7214, g_loss: 2.1872, D(x): 0.77, D(G(z)): 0.22\n",
            "Epoch [82/100], Step [200/600], d_loss: 0.6393, g_loss: 1.8770, D(x): 0.80, D(G(z)): 0.25\n",
            "Epoch [82/100], Step [400/600], d_loss: 0.6486, g_loss: 1.7361, D(x): 0.83, D(G(z)): 0.28\n",
            "Epoch [82/100], Step [600/600], d_loss: 0.5426, g_loss: 2.1760, D(x): 0.84, D(G(z)): 0.21\n",
            "Epoch [83/100], Step [200/600], d_loss: 1.4696, g_loss: 1.4067, D(x): 0.66, D(G(z)): 0.32\n",
            "Epoch [83/100], Step [400/600], d_loss: 0.5286, g_loss: 1.8538, D(x): 0.82, D(G(z)): 0.21\n",
            "Epoch [83/100], Step [600/600], d_loss: 0.6198, g_loss: 1.9120, D(x): 0.78, D(G(z)): 0.20\n",
            "Epoch [84/100], Step [200/600], d_loss: 0.7568, g_loss: 1.8285, D(x): 0.71, D(G(z)): 0.17\n",
            "Epoch [84/100], Step [400/600], d_loss: 0.8038, g_loss: 2.2745, D(x): 0.69, D(G(z)): 0.17\n",
            "Epoch [84/100], Step [600/600], d_loss: 0.5949, g_loss: 1.9731, D(x): 0.81, D(G(z)): 0.23\n",
            "Epoch [85/100], Step [200/600], d_loss: 0.5977, g_loss: 2.0168, D(x): 0.79, D(G(z)): 0.22\n",
            "Epoch [85/100], Step [400/600], d_loss: 0.7013, g_loss: 2.2013, D(x): 0.77, D(G(z)): 0.20\n",
            "Epoch [85/100], Step [600/600], d_loss: 0.7045, g_loss: 1.8299, D(x): 0.83, D(G(z)): 0.28\n",
            "Epoch [86/100], Step [200/600], d_loss: 0.7616, g_loss: 1.8593, D(x): 0.79, D(G(z)): 0.28\n",
            "Epoch [86/100], Step [400/600], d_loss: 0.6268, g_loss: 2.0516, D(x): 0.78, D(G(z)): 0.18\n",
            "Epoch [86/100], Step [600/600], d_loss: 0.7629, g_loss: 1.8380, D(x): 0.78, D(G(z)): 0.29\n",
            "Epoch [87/100], Step [200/600], d_loss: 0.5929, g_loss: 1.9480, D(x): 0.81, D(G(z)): 0.20\n",
            "Epoch [87/100], Step [400/600], d_loss: 0.4968, g_loss: 1.9953, D(x): 0.84, D(G(z)): 0.18\n",
            "Epoch [87/100], Step [600/600], d_loss: 0.6445, g_loss: 1.9963, D(x): 0.77, D(G(z)): 0.21\n",
            "Epoch [88/100], Step [200/600], d_loss: 0.5824, g_loss: 1.8018, D(x): 0.79, D(G(z)): 0.21\n",
            "Epoch [88/100], Step [400/600], d_loss: 0.7183, g_loss: 1.8380, D(x): 0.76, D(G(z)): 0.23\n",
            "Epoch [88/100], Step [600/600], d_loss: 0.5572, g_loss: 2.0436, D(x): 0.84, D(G(z)): 0.22\n",
            "Epoch [89/100], Step [200/600], d_loss: 0.7294, g_loss: 1.8079, D(x): 0.71, D(G(z)): 0.17\n",
            "Epoch [89/100], Step [400/600], d_loss: 0.5959, g_loss: 2.0069, D(x): 0.79, D(G(z)): 0.21\n",
            "Epoch [89/100], Step [600/600], d_loss: 0.7023, g_loss: 1.7068, D(x): 0.78, D(G(z)): 0.26\n",
            "Epoch [90/100], Step [200/600], d_loss: 0.7274, g_loss: 1.9170, D(x): 0.74, D(G(z)): 0.18\n",
            "Epoch [90/100], Step [400/600], d_loss: 0.7431, g_loss: 2.5750, D(x): 0.73, D(G(z)): 0.16\n",
            "Epoch [90/100], Step [600/600], d_loss: 0.7346, g_loss: 2.0012, D(x): 0.76, D(G(z)): 0.21\n",
            "Epoch [91/100], Step [200/600], d_loss: 0.5615, g_loss: 2.0315, D(x): 0.81, D(G(z)): 0.20\n",
            "Epoch [91/100], Step [400/600], d_loss: 0.6540, g_loss: 1.9188, D(x): 0.78, D(G(z)): 0.22\n",
            "Epoch [91/100], Step [600/600], d_loss: 0.6690, g_loss: 2.1547, D(x): 0.77, D(G(z)): 0.20\n",
            "Epoch [92/100], Step [200/600], d_loss: 0.6535, g_loss: 1.8772, D(x): 0.76, D(G(z)): 0.19\n",
            "Epoch [92/100], Step [400/600], d_loss: 0.5636, g_loss: 2.0767, D(x): 0.80, D(G(z)): 0.20\n",
            "Epoch [92/100], Step [600/600], d_loss: 0.6362, g_loss: 1.8929, D(x): 0.79, D(G(z)): 0.22\n",
            "Epoch [93/100], Step [200/600], d_loss: 0.6091, g_loss: 2.1310, D(x): 0.84, D(G(z)): 0.25\n",
            "Epoch [93/100], Step [400/600], d_loss: 0.6175, g_loss: 1.9874, D(x): 0.80, D(G(z)): 0.21\n",
            "Epoch [93/100], Step [600/600], d_loss: 0.6627, g_loss: 2.0361, D(x): 0.78, D(G(z)): 0.22\n",
            "Epoch [94/100], Step [200/600], d_loss: 0.7018, g_loss: 2.3705, D(x): 0.72, D(G(z)): 0.18\n",
            "Epoch [94/100], Step [400/600], d_loss: 0.6040, g_loss: 1.8317, D(x): 0.80, D(G(z)): 0.22\n",
            "Epoch [94/100], Step [600/600], d_loss: 0.6399, g_loss: 2.2829, D(x): 0.77, D(G(z)): 0.15\n",
            "Epoch [95/100], Step [200/600], d_loss: 0.6443, g_loss: 1.9447, D(x): 0.77, D(G(z)): 0.17\n",
            "Epoch [95/100], Step [400/600], d_loss: 0.7652, g_loss: 2.1192, D(x): 0.73, D(G(z)): 0.19\n",
            "Epoch [95/100], Step [600/600], d_loss: 0.5436, g_loss: 2.0139, D(x): 0.81, D(G(z)): 0.18\n",
            "Epoch [96/100], Step [200/600], d_loss: 1.5951, g_loss: 1.3410, D(x): 0.77, D(G(z)): 0.37\n",
            "Epoch [96/100], Step [400/600], d_loss: 0.6534, g_loss: 2.2902, D(x): 0.76, D(G(z)): 0.18\n",
            "Epoch [96/100], Step [600/600], d_loss: 0.6442, g_loss: 2.5079, D(x): 0.75, D(G(z)): 0.15\n",
            "Epoch [97/100], Step [200/600], d_loss: 0.7399, g_loss: 1.9303, D(x): 0.76, D(G(z)): 0.24\n",
            "Epoch [97/100], Step [400/600], d_loss: 0.5767, g_loss: 1.8586, D(x): 0.78, D(G(z)): 0.17\n",
            "Epoch [97/100], Step [600/600], d_loss: 0.7634, g_loss: 2.0113, D(x): 0.78, D(G(z)): 0.27\n",
            "Epoch [98/100], Step [200/600], d_loss: 0.7058, g_loss: 2.0603, D(x): 0.80, D(G(z)): 0.23\n",
            "Epoch [98/100], Step [400/600], d_loss: 0.5897, g_loss: 1.7574, D(x): 0.80, D(G(z)): 0.23\n",
            "Epoch [98/100], Step [600/600], d_loss: 0.7964, g_loss: 1.4353, D(x): 0.76, D(G(z)): 0.28\n",
            "Epoch [99/100], Step [200/600], d_loss: 0.6497, g_loss: 1.8586, D(x): 0.79, D(G(z)): 0.21\n",
            "Epoch [99/100], Step [400/600], d_loss: 0.5982, g_loss: 2.0736, D(x): 0.81, D(G(z)): 0.23\n",
            "Epoch [99/100], Step [600/600], d_loss: 0.6091, g_loss: 1.7337, D(x): 0.81, D(G(z)): 0.23\n"
          ],
          "name": "stdout"
        }
      ]
    },
    {
      "metadata": {
        "id": "838FqfhF4xlK",
        "colab_type": "code",
        "colab": {}
      },
      "cell_type": "code",
      "source": [
        "# Save the model checkpoints \n",
        "torch.save(G.state_dict(), 'G.ckpt')\n",
        "torch.save(D.state_dict(), 'D.ckpt')"
      ],
      "execution_count": 0,
      "outputs": []
    },
    {
      "metadata": {
        "id": "Q_n2WdQr42oZ",
        "colab_type": "code",
        "colab": {}
      },
      "cell_type": "code",
      "source": [
        ""
      ],
      "execution_count": 0,
      "outputs": []
    },
    {
      "metadata": {
        "id": "HMRSc05U4z8g",
        "colab_type": "code",
        "colab": {}
      },
      "cell_type": "code",
      "source": [
        "# generate images\n",
        "z = torch.randn(10, latent_size).to(device)\n",
        "fake_images = G(z)"
      ],
      "execution_count": 0,
      "outputs": []
    },
    {
      "metadata": {
        "id": "8U_OpPsfPBL4",
        "colab_type": "code",
        "colab": {
          "base_uri": "https://localhost:8080/",
          "height": 321
        },
        "outputId": "285d15d7-8c78-4c0e-8ad1-06305598aec2"
      },
      "cell_type": "code",
      "source": [
        "fig, ax = plt.subplots(2,5, figsize=(15,5))\n",
        "for i in range(10):\n",
        "  ax[int(i/5), i%5].imshow(fake_images[i].view(28,28).cpu().detach().numpy())\n",
        "  ax[int(i/5), i%5].axis('off')"
      ],
      "execution_count": 96,
      "outputs": [
        {
          "output_type": "display_data",
          "data": {
            "image/png": "[encoded data removed]",
            "text/plain": [
              "<Figure size 1080x360 with 10 Axes>"
            ]
          },
          "metadata": {
            "tags": []
          }
        }
      ]
    },
    {
      "metadata": {
        "id": "AWJFprjAPCpw",
        "colab_type": "code",
        "colab": {
          "base_uri": "https://localhost:8080/",
          "height": 34
        },
        "outputId": "1d311e90-7ffa-4c20-dee0-8478dcbe3f4e"
      },
      "cell_type": "code",
      "source": [
        "i = 3\n",
        "int(i/4), i%4"
      ],
      "execution_count": 79,
      "outputs": [
        {
          "output_type": "execute_result",
          "data": {
            "text/plain": [
              "(0, 3)"
            ]
          },
          "metadata": {
            "tags": []
          },
          "execution_count": 79
        }
      ]
    },
    {
      "metadata": {
        "id": "4StlFR-FPgsK",
        "colab_type": "code",
        "colab": {
          "base_uri": "https://localhost:8080/",
          "height": 34
        },
        "outputId": "6ca99987-eac6-497b-ee1a-7f8d05534b83"
      },
      "cell_type": "code",
      "source": [
        "import numpy as np\n",
        "np.sqrt(784)"
      ],
      "execution_count": 42,
      "outputs": [
        {
          "output_type": "execute_result",
          "data": {
            "text/plain": [
              "28.0"
            ]
          },
          "metadata": {
            "tags": []
          },
          "execution_count": 42
        }
      ]
    },
    {
      "metadata": {
        "id": "5F3roviEPiqK",
        "colab_type": "code",
        "colab": {
          "base_uri": "https://localhost:8080/",
          "height": 34
        },
        "outputId": "fe77eb72-3959-442a-c097-7011a99e1654"
      },
      "cell_type": "code",
      "source": [
        "7%2, 7-2*(1%2)"
      ],
      "execution_count": 47,
      "outputs": [
        {
          "output_type": "execute_result",
          "data": {
            "text/plain": [
              "(1, 5)"
            ]
          },
          "metadata": {
            "tags": []
          },
          "execution_count": 47
        }
      ]
    },
    {
      "metadata": {
        "id": "pirsjKP9P2zj",
        "colab_type": "code",
        "colab": {}
      },
      "cell_type": "code",
      "source": [
        ""
      ],
      "execution_count": 0,
      "outputs": []
    }
  ]
}