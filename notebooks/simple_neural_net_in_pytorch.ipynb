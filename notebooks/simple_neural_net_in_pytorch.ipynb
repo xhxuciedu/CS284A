{
  "nbformat": 4,
  "nbformat_minor": 0,
  "metadata": {
    "colab": {
      "provenance": [],
      "authorship_tag": "ABX9TyPNg+EWjop9X/11X38RRMzK",
      "include_colab_link": true
    },
    "kernelspec": {
      "name": "python3",
      "display_name": "Python 3"
    },
    "language_info": {
      "name": "python"
    }
  },
  "cells": [
    {
      "cell_type": "markdown",
      "metadata": {
        "id": "view-in-github",
        "colab_type": "text"
      },
      "source": [
        "<a href=\"https://colab.research.google.com/github/xhxuciedu/CS284A/blob/master/simple_neural_net_in_pytorch.ipynb\" target=\"_parent\"><img src=\"https://colab.research.google.com/assets/colab-badge.svg\" alt=\"Open In Colab\"/></a>"
      ]
    },
    {
      "cell_type": "markdown",
      "source": [
        "## An example neural network model in PyTorch.\n",
        "\n",
        "This model will be a basic feedforward neural network with one hidden layer.  \n",
        "\n",
        "It is used for a classification task on a dataset with 10 features and 3 classes.\n",
        "\n"
      ],
      "metadata": {
        "id": "J6winI8iLG5M"
      }
    },
    {
      "cell_type": "code",
      "source": [
        "import torch\n",
        "import torch.nn as nn\n",
        "import torch.nn.functional as F\n",
        "\n",
        "# Define the neural network model\n",
        "class SimpleNeuralNet(nn.Module):\n",
        "    def __init__(self):\n",
        "        super(SimpleNeuralNet, self).__init__()\n",
        "        # Input layer (10 features) to hidden layer (64 neurons)\n",
        "        self.fc1 = nn.Linear(10, 64)\n",
        "        # Hidden layer to output layer (3 classes)\n",
        "        self.fc2 = nn.Linear(64, 3)\n",
        "\n",
        "    def forward(self, x):\n",
        "        # Forward pass through the first layer and activation function\n",
        "        x = F.relu(self.fc1(x))\n",
        "        # Output layer with no activation\n",
        "        x = self.fc2(x)\n",
        "        return x"
      ],
      "metadata": {
        "id": "J2Ju-PBdLpSD"
      },
      "execution_count": 1,
      "outputs": []
    },
    {
      "cell_type": "code",
      "source": [
        "# Create an instance of the model\n",
        "model = SimpleNeuralNet()"
      ],
      "metadata": {
        "id": "zOjqDjzvLvRo"
      },
      "execution_count": 3,
      "outputs": []
    },
    {
      "cell_type": "code",
      "source": [
        "print(model)"
      ],
      "metadata": {
        "colab": {
          "base_uri": "https://localhost:8080/"
        },
        "id": "_rhN6R2XL40o",
        "outputId": "aa141452-4fa3-49d0-ba88-696f602ca82f"
      },
      "execution_count": 4,
      "outputs": [
        {
          "output_type": "stream",
          "name": "stdout",
          "text": [
            "SimpleNeuralNet(\n",
            "  (fc1): Linear(in_features=10, out_features=64, bias=True)\n",
            "  (fc2): Linear(in_features=64, out_features=3, bias=True)\n",
            ")\n"
          ]
        }
      ]
    },
    {
      "cell_type": "markdown",
      "source": [
        "To use this model, you'd typically perform the following steps:\n",
        "\n",
        "1. **Create a dataset and dataloader**: You'd create a `Dataset` object and a `DataLoader` to handle batches of data.\n",
        "2. **Define a loss function**: For classification, you might use `nn.CrossEntropyLoss`.\n",
        "3. **Define an optimizer**: Such as `torch.optim.Adam(model.parameters(), lr=0.001)` to update the model's weights.\n",
        "4. **Training loop**: Where you'd iterate over epochs and batches, pass your input through the model, calculate the loss, and update the weights using the optimizer.\n",
        "\n",
        "Here's a very simple example of how the training loop might look:"
      ],
      "metadata": {
        "id": "7BVH4KzPMA_L"
      }
    },
    {
      "cell_type": "code",
      "source": [
        "# Dummy dataset with 10 features and 3 possible output classes\n",
        "X = torch.randn(100, 10)  # 100 samples with 10 features each\n",
        "y = torch.randint(0, 3, (100,))  # 100 random labels for 3 classes\n",
        "\n",
        "# Loss function and optimizer\n",
        "criterion = nn.CrossEntropyLoss()\n",
        "optimizer = torch.optim.Adam(model.parameters(), lr=0.001)"
      ],
      "metadata": {
        "id": "Fo0QT6FDMKCF"
      },
      "execution_count": 5,
      "outputs": []
    },
    {
      "cell_type": "code",
      "execution_count": 6,
      "metadata": {
        "colab": {
          "base_uri": "https://localhost:8080/"
        },
        "id": "3MwduR9hLA0I",
        "outputId": "5b6ae11e-74bf-4a3e-dbbc-7474a28f515d"
      },
      "outputs": [
        {
          "output_type": "stream",
          "name": "stdout",
          "text": [
            "Epoch 10/100, Loss: 1.081277847290039\n",
            "Epoch 20/100, Loss: 1.0416131019592285\n",
            "Epoch 30/100, Loss: 1.0130265951156616\n",
            "Epoch 40/100, Loss: 0.9867253303527832\n",
            "Epoch 50/100, Loss: 0.9618844389915466\n",
            "Epoch 60/100, Loss: 0.93767911195755\n",
            "Epoch 70/100, Loss: 0.9135722517967224\n",
            "Epoch 80/100, Loss: 0.8889824748039246\n",
            "Epoch 90/100, Loss: 0.8636313080787659\n",
            "Epoch 100/100, Loss: 0.8372048735618591\n"
          ]
        }
      ],
      "source": [
        "# Training loop\n",
        "for epoch in range(100):  # number of epochs\n",
        "    # Forward pass: compute predicted y by passing X to the model\n",
        "    y_pred = model(X)\n",
        "\n",
        "    # Compute loss\n",
        "    loss = criterion(y_pred, y)\n",
        "\n",
        "    # Zero gradients, perform a backward pass, and update the weights\n",
        "    optimizer.zero_grad()\n",
        "    loss.backward()\n",
        "    optimizer.step()\n",
        "\n",
        "    # Print statistics\n",
        "    if (epoch+1) % 10 == 0:\n",
        "        print(f'Epoch {epoch+1}/100, Loss: {loss.item()}')"
      ]
    },
    {
      "cell_type": "code",
      "source": [],
      "metadata": {
        "id": "dd434OWWMPlw"
      },
      "execution_count": null,
      "outputs": []
    }
  ]
}