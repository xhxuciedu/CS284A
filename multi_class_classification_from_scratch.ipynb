{
  "nbformat": 4,
  "nbformat_minor": 0,
  "metadata": {
    "colab": {
      "provenance": [],
      "authorship_tag": "ABX9TyMAy959tQE52jfRPsmQxmRx",
      "include_colab_link": true
    },
    "kernelspec": {
      "name": "python3",
      "display_name": "Python 3"
    },
    "language_info": {
      "name": "python"
    }
  },
  "cells": [
    {
      "cell_type": "markdown",
      "metadata": {
        "id": "view-in-github",
        "colab_type": "text"
      },
      "source": [
        "<a href=\"https://colab.research.google.com/github/xhxuciedu/CS284A/blob/master/multi_class_classification_from_scratch.ipynb\" target=\"_parent\"><img src=\"https://colab.research.google.com/assets/colab-badge.svg\" alt=\"Open In Colab\"/></a>"
      ]
    },
    {
      "cell_type": "markdown",
      "source": [
        "Extending logistic regression to handle multi-class classification (more than two classes), one common approach is using the softmax regression (also known as multinomial logistic regression).\n",
        "\n",
        "Here's a breakdown of the steps:\n",
        "\n",
        "* Define the softmax function: This function generalizes the sigmoid function\n",
        "* for multi-class classification and returns a probability distribution over the classes.\n",
        "* Define the cross-entropy loss for softmax regression.\n",
        "* Implement the gradient descent algorithm to optimize the weights.\n",
        "* Train and test the softmax regression model."
      ],
      "metadata": {
        "id": "pNGYtAbxbY5o"
      }
    },
    {
      "cell_type": "code",
      "execution_count": 37,
      "metadata": {
        "id": "uq8tSJWIWAFb"
      },
      "outputs": [],
      "source": [
        "import numpy as np"
      ]
    },
    {
      "cell_type": "code",
      "source": [
        "# 1. Softmax function\n",
        "def softmax(z):\n",
        "    e_z = np.exp(z - np.max(z))  # to avoid numerical instability\n",
        "    return e_z / e_z.sum(axis=1, keepdims=True)\n",
        "\n",
        "# 2. Cross-entropy loss\n",
        "def cross_entropy(y_true, y_pred):\n",
        "    m = y_true.shape[0]\n",
        "    return -np.sum(y_true * np.log(y_pred)) / m\n",
        "\n",
        "# 3. Gradient descent algorithm\n",
        "def gradient_descent(X, y, alpha, num_iterations, n_classes):\n",
        "    m, n = X.shape\n",
        "    theta = np.zeros((n, n_classes))\n",
        "    cost_history = []\n",
        "\n",
        "    for _ in range(num_iterations):\n",
        "        y_pred = softmax(np.dot(X, theta))\n",
        "        gradient = np.dot(X.T, (y_pred - y)) / m\n",
        "        theta -= alpha * gradient\n",
        "        cost_history.append(cross_entropy(y, y_pred))\n",
        "\n",
        "    return theta, cost_history"
      ],
      "metadata": {
        "id": "4z-74gMtbUp9"
      },
      "execution_count": 39,
      "outputs": []
    },
    {
      "cell_type": "code",
      "source": [
        "# Sample data (3 classes)\n",
        "np.random.seed(42)\n",
        "X = np.random.randn(100, 2)\n",
        "Y = (X[:, 0] + X[:, 1]).astype(int) % 3\n",
        "\n",
        "# Convert Y to one-hot encoded matrix\n",
        "def one_hot_encode(Y, n_classes):\n",
        "    m = len(Y)\n",
        "    one_hot = np.zeros((m, n_classes))\n",
        "    one_hot[np.arange(m), Y] = 1\n",
        "    return one_hot\n",
        "\n",
        "y = one_hot_encode(Y, 3)\n",
        "\n",
        "# Add intercept term\n",
        "X = np.hstack([np.ones((X.shape[0], 1)), X])"
      ],
      "metadata": {
        "id": "u9B7McucbxvC"
      },
      "execution_count": 42,
      "outputs": []
    },
    {
      "cell_type": "code",
      "source": [
        "# 4. Train the model\n",
        "alpha = 0.01\n",
        "num_iterations = 1000\n",
        "theta, cost_history = gradient_descent(X, y, alpha, num_iterations, 3)\n",
        "\n",
        "# Predict\n",
        "def predict(X, theta):\n",
        "    return np.argmax(softmax(np.dot(X, theta)), axis=1)\n",
        "\n",
        "y_pred = predict(X, theta)\n",
        "\n",
        "accuracy = np.mean(y_pred == Y)\n",
        "print(f\"Accuracy: {accuracy * 100:.2f}%\")"
      ],
      "metadata": {
        "colab": {
          "base_uri": "https://localhost:8080/"
        },
        "id": "xoZ-n43Ab_l3",
        "outputId": "82bdc548-3126-4188-c569-05ca89030899"
      },
      "execution_count": 43,
      "outputs": [
        {
          "output_type": "stream",
          "name": "stdout",
          "text": [
            "Accuracy: 48.00%\n"
          ]
        }
      ]
    },
    {
      "cell_type": "code",
      "source": [
        "Y"
      ],
      "metadata": {
        "colab": {
          "base_uri": "https://localhost:8080/"
        },
        "id": "aGeuowFPcVWr",
        "outputId": "df5afa6f-43a3-43e7-9da9-26c404a96e08"
      },
      "execution_count": 48,
      "outputs": [
        {
          "output_type": "execute_result",
          "data": {
            "text/plain": [
              "array([0, 2, 0, 2, 0, 0, 2, 1, 0, 1, 1, 2, 0, 0, 0, 1, 2, 0, 2, 2, 0, 0,\n",
              "       1, 0, 2, 0, 0, 1, 2, 1, 0, 1, 2, 0, 0, 1, 1, 2, 0, 2, 0, 0, 2, 1,\n",
              "       0, 1, 2, 2, 0, 0, 2, 2, 0, 2, 0, 2, 2, 0, 2, 1, 0, 0, 2, 2, 0, 2,\n",
              "       0, 0, 2, 0, 1, 2, 1, 1, 0, 0, 0, 0, 2, 0, 0, 0, 1, 2, 0, 2, 0, 1,\n",
              "       1, 2, 0, 0, 0, 0, 1, 0, 2, 0, 0, 2])"
            ]
          },
          "metadata": {},
          "execution_count": 48
        }
      ]
    },
    {
      "cell_type": "markdown",
      "source": [
        "##  Visualization"
      ],
      "metadata": {
        "id": "aJoepRf1YdyP"
      }
    },
    {
      "cell_type": "code",
      "source": [
        "import matplotlib.pyplot as plt"
      ],
      "metadata": {
        "id": "BaaCfcNbWPFm"
      },
      "execution_count": 45,
      "outputs": []
    },
    {
      "cell_type": "markdown",
      "source": [
        "##  Visualize the training data"
      ],
      "metadata": {
        "id": "NYJEqhgwXG3s"
      }
    },
    {
      "cell_type": "code",
      "source": [
        "fig, ax = plt.subplots(figsize=(6,5))\n",
        "ax.plot(X[Y==0,1], X[Y==0,2],'.b', label='0')\n",
        "ax.plot(X[Y==1,1], X[Y==1,2],'.r', label='1')\n",
        "ax.plot(X[Y==2,1], X[Y==2,2],'.g', label='2')\n",
        "\n",
        "ax.legend()\n",
        "#ax.grid()\n",
        "ax.set_xlabel('$x_1$')\n",
        "ax.set_ylabel('$x_2$')"
      ],
      "metadata": {
        "colab": {
          "base_uri": "https://localhost:8080/",
          "height": 483
        },
        "id": "TWthZvARWiIb",
        "outputId": "98726bea-01be-4211-ca88-f22ad55b87a0"
      },
      "execution_count": 49,
      "outputs": [
        {
          "output_type": "execute_result",
          "data": {
            "text/plain": [
              "Text(0, 0.5, '$x_2$')"
            ]
          },
          "metadata": {},
          "execution_count": 49
        },
        {
          "output_type": "display_data",
          "data": {
            "text/plain": [
              "<Figure size 600x500 with 1 Axes>"
            ],
            "image/png": "[encoded data removed]"
          },
          "metadata": {}
        }
      ]
    },
    {
      "cell_type": "markdown",
      "source": [
        "### Visualize learning curve"
      ],
      "metadata": {
        "id": "RLHYSfXxYk_1"
      }
    },
    {
      "cell_type": "code",
      "source": [
        "plt.plot(cost_history)\n",
        "plt.xlabel(\"#Iter\")\n",
        "plt.ylabel('Loss')\n",
        "plt.grid()"
      ],
      "metadata": {
        "colab": {
          "base_uri": "https://localhost:8080/",
          "height": 449
        },
        "id": "qbrMLu2_WVvo",
        "outputId": "31583bec-f796-4226-c965-496a4f978db5"
      },
      "execution_count": 50,
      "outputs": [
        {
          "output_type": "display_data",
          "data": {
            "text/plain": [
              "<Figure size 640x480 with 1 Axes>"
            ],
            "image/png": "[encoded data removed]"
          },
          "metadata": {}
        }
      ]
    },
    {
      "cell_type": "markdown",
      "source": [
        "### plot decision boundary"
      ],
      "metadata": {
        "id": "CvLZ_XjbWXQU"
      }
    },
    {
      "cell_type": "code",
      "source": [
        "# fig, ax = plt.subplots(figsize=(6,5))\n",
        "# ax.plot(X[Y==0,1], X[Y==0,2],'.b', label='0')\n",
        "# ax.plot(X[Y==1,1], X[Y==1,2],'.r', label='1')\n",
        "# ax.plot(X[Y==2,1], X[Y==2,2],'.g', label='2')\n",
        "\n",
        "\n",
        "# test_x = np.array([np.min(X[:,1]), np.max(X[:,1])])\n",
        "# ax.plot(test_x, (-(theta[:,0]+theta[:,1]*test_x)/theta[:,2]).diff(),'--g', label='Decision Boundary')\n",
        "\n",
        "# ax.legend()\n",
        "# #ax.grid()\n",
        "# ax.set_xlabel('$x_1$')\n",
        "# ax.set_ylabel('$x_2$')"
      ],
      "metadata": {
        "id": "KvvcJHtiY9kO"
      },
      "execution_count": 56,
      "outputs": []
    },
    {
      "cell_type": "code",
      "source": [
        "theta"
      ],
      "metadata": {
        "colab": {
          "base_uri": "https://localhost:8080/"
        },
        "id": "RpvQ5CQYZgnz",
        "outputId": "6ecfdfca-305d-4d63-ef5d-83e195330dfe"
      },
      "execution_count": 51,
      "outputs": [
        {
          "output_type": "execute_result",
          "data": {
            "text/plain": [
              "array([[ 0.42879664, -0.42479039, -0.00400625],\n",
              "       [ 0.04699244,  0.08160811, -0.12860054],\n",
              "       [-0.03389749,  0.22339289, -0.1894954 ]])"
            ]
          },
          "metadata": {},
          "execution_count": 51
        }
      ]
    },
    {
      "cell_type": "code",
      "source": [],
      "metadata": {
        "id": "otjOZfubZnci"
      },
      "execution_count": null,
      "outputs": []
    }
  ]
}