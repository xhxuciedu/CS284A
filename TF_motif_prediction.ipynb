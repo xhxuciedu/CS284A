{
  "nbformat": 4,
  "nbformat_minor": 0,
  "metadata": {
    "colab": {
      "name": "convolutional_neural_net.ipynb",
      "provenance": [],
      "include_colab_link": true
    },
    "kernelspec": {
      "name": "python3",
      "display_name": "Python 3"
    },
    "accelerator": "GPU"
  },
  "cells": [
    {
      "cell_type": "markdown",
      "metadata": {
        "id": "view-in-github",
        "colab_type": "text"
      },
      "source": [
        "<a href=\"https://colab.research.google.com/github/xhxuciedu/CS284A/blob/master/TF_motif_prediction.ipynb\" target=\"_parent\"><img src=\"https://colab.research.google.com/assets/colab-badge.svg\" alt=\"Open In Colab\"/></a>"
      ]
    },
    {
      "cell_type": "markdown",
      "source": [
        "# Predicting TF Binding Sites\n",
        "\n",
        "Transcription Factors (TFs) are proteins that bind to the DNA and help regulate gene transcription. The TFs have to recognize some \"motif\" on the DNA upstream from the gene, and DNA accessibility also plays a role.  \n",
        "\n",
        "In tis problem set, we will develop ML methods to predict which sequences can be bound by a transcription factor called JUND.  The binding profile of JUND expressed in terms of a sequence logo is shown in the following image."
      ],
      "metadata": {
        "id": "JBTsc7NV6hih"
      }
    },
    {
      "cell_type": "code",
      "source": [
        "# get the image\n",
        "Image(url=\"https://www.ismara.unibas.ch/ISMARA/scratch/NHBE_SC2/ismara_report/logos/JUND.png\", width=350, height=300)"
      ],
      "metadata": {
        "id": "03Kb0PxS7kmD",
        "outputId": "13374d1a-5eed-4af7-938c-1474796e3a5b",
        "colab": {
          "base_uri": "https://localhost:8080/",
          "height": 321
        }
      },
      "execution_count": 37,
      "outputs": [
        {
          "output_type": "execute_result",
          "data": {
            "text/html": [
              "<img src=\"https://www.ismara.unibas.ch/ISMARA/scratch/NHBE_SC2/ismara_report/logos/JUND.png\" width=\"350\" height=\"300\"/>"
            ],
            "text/plain": [
              "<IPython.core.display.Image object>"
            ]
          },
          "metadata": {},
          "execution_count": 37
        }
      ]
    },
    {
      "cell_type": "markdown",
      "source": [
        "\n",
        "## MLP model \n",
        "\n",
        "In this assignment you'll modify write an MLP model the predict whether a segments of the human chromosome 22 (Chr22) contain the binding sites for the JUND TF. You can modify the mlp notebook I shared with you to work on this problem. You need to have at least one hidden layer. You have to compute a weighted loss, and include accessibility information in your model, as described below.\n"
      ],
      "metadata": {
        "id": "MLaHSeDE6egJ"
      }
    },
    {
      "cell_type": "markdown",
      "source": [
        "\n",
        "## Dataset\n",
        "The data comprises 101 length segments from Chr22, with each position a one-hot vector denoting one of the four bases (A, C, G, T). Thus, each element of the input is 2d with size 101×4101×4. Each such element has a target label 00 or 11, indicating whether the TF binds to that segment or not. The data also includes a weight per input element, since there are only a few binding sites (0.42%), so that you'd obtain an accuracy of 99.58% just by predicting there are no binding sites. This means you have to use the weights to discount the losses for label 00 and enhance the losses for label 11 items. Finally, there is an array of values, one per input element, that also indicates the chromosome accessibility for that segment.\n",
        "\n",
        "The data is split into training, validation and testing sets. Each set contains the following files:\n",
        "\n",
        "shard-0-X.joblib: the set of 101 x 4 input elements\n",
        "shard-0-y.joblib: the true labels: 0 or 1\n",
        "shard-0-w.joblib: weight per input element\n",
        "shard-0-a.joblib: accessibility value per input element\n",
        "You can read these files by using joblib.load function, which will populate a numpy array. For example\n",
        "\n",
        "Data Credit: Mohammed Zaki"
      ],
      "metadata": {
        "id": "hD6tuYsy62tq"
      }
    },
    {
      "metadata": {
        "id": "lODww8KHp-Y8"
      },
      "cell_type": "code",
      "source": [
        "import torch \n",
        "import torch.nn as nn\n",
        "import torchvision\n",
        "import torchvision.transforms as transforms\n",
        "import matplotlib.pyplot as plt"
      ],
      "execution_count": 1,
      "outputs": []
    },
    {
      "metadata": {
        "id": "X3_alB7ltxOV"
      },
      "cell_type": "markdown",
      "source": [
        "### Check GPU availability"
      ]
    },
    {
      "metadata": {
        "id": "K76-vap0t3rR",
        "outputId": "e6b861c6-39c2-4a06-ddbf-60726876e130",
        "colab": {
          "base_uri": "https://localhost:8080/"
        }
      },
      "cell_type": "code",
      "source": [
        "# Device configuration\n",
        "device = torch.device('cuda:0' if torch.cuda.is_available() else 'cpu')\n",
        "print(device)"
      ],
      "execution_count": 2,
      "outputs": [
        {
          "output_type": "stream",
          "name": "stdout",
          "text": [
            "cuda:0\n"
          ]
        }
      ]
    },
    {
      "cell_type": "code",
      "source": [
        "!unzip TF_data.zip"
      ],
      "metadata": {
        "id": "msbhb6kqrSby",
        "outputId": "80264799-ac71-4a46-95be-0feaf4a6fe9c",
        "colab": {
          "base_uri": "https://localhost:8080/"
        }
      },
      "execution_count": 5,
      "outputs": [
        {
          "output_type": "stream",
          "name": "stdout",
          "text": [
            "Archive:  TF_data.zip\n",
            "   creating: train_dataset/\n",
            " extracting: train_dataset/metadata.csv.gzip  \n",
            "  inflating: train_dataset/shard-0-a.joblib  \n",
            "  inflating: train_dataset/shard-0-ids.joblib  \n",
            "  inflating: train_dataset/shard-0-w.joblib  \n",
            "  inflating: train_dataset/shard-0-X.joblib  \n",
            "  inflating: train_dataset/shard-0-y.joblib  \n",
            " extracting: train_dataset/tasks.json  \n",
            "   creating: valid_dataset/\n",
            " extracting: valid_dataset/metadata.csv.gzip  \n",
            "  inflating: valid_dataset/shard-0-a.joblib  \n",
            "  inflating: valid_dataset/shard-0-ids.joblib  \n",
            "  inflating: valid_dataset/shard-0-w.joblib  \n",
            "  inflating: valid_dataset/shard-0-X.joblib  \n",
            "  inflating: valid_dataset/shard-0-y.joblib  \n",
            " extracting: valid_dataset/tasks.json  \n",
            "   creating: test_dataset/\n",
            " extracting: test_dataset/metadata.csv.gzip  \n",
            "  inflating: test_dataset/shard-0-a.joblib  \n",
            "  inflating: test_dataset/shard-0-ids.joblib  \n",
            "  inflating: test_dataset/shard-0-w.joblib  \n",
            "  inflating: test_dataset/shard-0-X.joblib  \n",
            "  inflating: test_dataset/shard-0-y.joblib  \n",
            " extracting: test_dataset/tasks.json  \n"
          ]
        }
      ]
    },
    {
      "cell_type": "code",
      "source": [
        "!ls"
      ],
      "metadata": {
        "id": "tFYgc301rSfJ",
        "outputId": "246cb03e-dfad-4e78-b9e8-e9615b1f416f",
        "colab": {
          "base_uri": "https://localhost:8080/"
        }
      },
      "execution_count": 6,
      "outputs": [
        {
          "output_type": "stream",
          "name": "stdout",
          "text": [
            "sample_data  test_dataset  TF_data.zip\ttrain_dataset  valid_dataset\n"
          ]
        }
      ]
    },
    {
      "cell_type": "code",
      "source": [
        "import joblib"
      ],
      "metadata": {
        "id": "nENlSaLIrSla"
      },
      "execution_count": 7,
      "outputs": []
    },
    {
      "cell_type": "code",
      "source": [
        "from torch.utils.data import Dataset\n",
        "\n",
        "class JUND_Dataset(Dataset):\n",
        "    def __init__(self, data_dir):\n",
        "        '''load X, y, w, a from data_dir'''        \n",
        "        super(JUND_Dataset, self).__init__()\n",
        "\n",
        "        # load X, y, w, a from given data_dir\n",
        "        # convert them into torch tensors\n",
        "        self.X = torch.from_numpy(joblib.load(data_dir + '/shard-0-X.joblib'))\n",
        "        self.y = torch.from_numpy(joblib.load(data_dir + '/shard-0-y.joblib'))\n",
        "        self.w = torch.from_numpy(joblib.load(data_dir + '/shard-0-w.joblib'))\n",
        "        self.a = torch.from_numpy(joblib.load(data_dir + '/shard-0-a.joblib'))\n",
        "\n",
        "    def __len__(self):\n",
        "        '''return len of dataset'''\n",
        "        return self.X.shape[0]\n",
        "\n",
        "    def __getitem__(self, idx):\n",
        "        '''return X, y, w, and a values at index idx'''\n",
        "        return self.X[idx],self.y[idx],self.w[idx], self.a[idx]"
      ],
      "metadata": {
        "id": "vkSjbqBUyoE7"
      },
      "execution_count": 24,
      "outputs": []
    },
    {
      "cell_type": "code",
      "source": [
        "train_dataset = JUND_Dataset('train_dataset')"
      ],
      "metadata": {
        "id": "_l9lBPtb327G"
      },
      "execution_count": 31,
      "outputs": []
    },
    {
      "metadata": {
        "id": "NqY--VWwt-q-"
      },
      "cell_type": "code",
      "source": [
        "# Hyper parameters\n",
        "num_epochs = 5\n",
        "num_classes = 10\n",
        "batch_size = 100\n",
        "learning_rate = 0.001"
      ],
      "execution_count": 32,
      "outputs": []
    },
    {
      "cell_type": "code",
      "source": [
        "train_loader = torch.utils.data.DataLoader(dataset=train_dataset,\n",
        "                                           batch_size=batch_size, \n",
        "                                           shuffle=True)"
      ],
      "metadata": {
        "id": "l14gHzap4D7V"
      },
      "execution_count": 33,
      "outputs": []
    },
    {
      "cell_type": "code",
      "source": [
        "train_loader"
      ],
      "metadata": {
        "id": "E4YgSUwV4D98"
      },
      "execution_count": null,
      "outputs": []
    },
    {
      "metadata": {
        "id": "hlJ2VVIgt6Sw"
      },
      "cell_type": "markdown",
      "source": [
        "### Hyper parameters"
      ]
    },
    {
      "metadata": {
        "id": "S2r6B6sAuA_g"
      },
      "cell_type": "markdown",
      "source": [
        "### Traing and test data"
      ]
    },
    {
      "metadata": {
        "id": "WQOLl50SqWNI",
        "outputId": "2fbf803a-0221-4bb0-e29b-a2f836bdf6f6",
        "colab": {
          "base_uri": "https://localhost:8080/",
          "height": 119
        }
      },
      "cell_type": "code",
      "source": [
        "# MNIST dataset\n",
        "train_dataset = torchvision.datasets.MNIST(root='../../data/',\n",
        "                                           train=True, \n",
        "                                           transform=transforms.ToTensor(),\n",
        "                                           download=True)\n",
        "\n",
        "test_dataset = torchvision.datasets.MNIST(root='../../data/',\n",
        "                                          train=False, \n",
        "                                          transform=transforms.ToTensor())\n",
        "\n",
        "# Data loader\n",
        "train_loader = torch.utils.data.DataLoader(dataset=train_dataset,\n",
        "                                           batch_size=batch_size, \n",
        "                                           shuffle=True)\n",
        "\n",
        "test_loader = torch.utils.data.DataLoader(dataset=test_dataset,\n",
        "                                          batch_size=batch_size, \n",
        "                                          shuffle=False)"
      ],
      "execution_count": null,
      "outputs": [
        {
          "output_type": "stream",
          "text": [
            "Downloading http://yann.lecun.com/exdb/mnist/train-images-idx3-ubyte.gz\n",
            "Downloading http://yann.lecun.com/exdb/mnist/train-labels-idx1-ubyte.gz\n",
            "Downloading http://yann.lecun.com/exdb/mnist/t10k-images-idx3-ubyte.gz\n",
            "Downloading http://yann.lecun.com/exdb/mnist/t10k-labels-idx1-ubyte.gz\n",
            "Processing...\n",
            "Done!\n"
          ],
          "name": "stdout"
        }
      ]
    },
    {
      "metadata": {
        "id": "va0gwf0MgK_4",
        "colab": {
          "base_uri": "https://localhost:8080/",
          "height": 51
        },
        "outputId": "abf07b4f-8014-4157-8a48-85ec2744f255"
      },
      "cell_type": "code",
      "source": [
        "print('Train data: ', train_dataset.train_data.shape)\n",
        "print('Test data: ', test_dataset.test_data.shape)"
      ],
      "execution_count": null,
      "outputs": [
        {
          "output_type": "stream",
          "text": [
            "Train data:  torch.Size([60000, 28, 28])\n",
            "Test data:  torch.Size([10000, 28, 28])\n"
          ],
          "name": "stdout"
        }
      ]
    },
    {
      "metadata": {
        "id": "64kspZdouNQ_"
      },
      "cell_type": "markdown",
      "source": [
        "### Check data"
      ]
    },
    {
      "metadata": {
        "id": "MMGdSgKUqtT7"
      },
      "cell_type": "code",
      "source": [
        "X,y,w,a = next(iter(train_loader))"
      ],
      "execution_count": 34,
      "outputs": []
    },
    {
      "cell_type": "code",
      "source": [
        "X.shape, y.shape, w.shape, a.shape"
      ],
      "metadata": {
        "id": "QTmB38Jn6TBp",
        "outputId": "40570d0e-02c2-48fd-e4d1-ec112c3b4bda",
        "colab": {
          "base_uri": "https://localhost:8080/"
        }
      },
      "execution_count": 36,
      "outputs": [
        {
          "output_type": "execute_result",
          "data": {
            "text/plain": [
              "(torch.Size([100, 101, 4]),\n",
              " torch.Size([100, 1]),\n",
              " torch.Size([100, 1]),\n",
              " torch.Size([100, 1]))"
            ]
          },
          "metadata": {},
          "execution_count": 36
        }
      ]
    },
    {
      "cell_type": "code",
      "source": [],
      "metadata": {
        "id": "ZubY0IPp6TE4"
      },
      "execution_count": null,
      "outputs": []
    },
    {
      "metadata": {
        "id": "xyebOp6Fraja",
        "outputId": "c8da5227-85a0-4ea8-e435-f80df6b6a529",
        "colab": {
          "base_uri": "https://localhost:8080/",
          "height": 34
        }
      },
      "cell_type": "code",
      "source": [
        "print(images.shape, labels.shape)"
      ],
      "execution_count": null,
      "outputs": [
        {
          "output_type": "stream",
          "text": [
            "torch.Size([100, 1, 28, 28]) torch.Size([100])\n"
          ],
          "name": "stdout"
        }
      ]
    },
    {
      "metadata": {
        "id": "Z3xq8qQQriTf",
        "outputId": "1306daef-01ac-46bf-efbc-d1668169a6be",
        "colab": {
          "base_uri": "https://localhost:8080/",
          "height": 364
        }
      },
      "cell_type": "code",
      "source": [
        "plt.imshow(images[0,0,:,:])"
      ],
      "execution_count": null,
      "outputs": [
        {
          "output_type": "execute_result",
          "data": {
            "text/plain": [
              "<matplotlib.image.AxesImage at 0x7f2fad1c3b00>"
            ]
          },
          "metadata": {
            "tags": []
          },
          "execution_count": 7
        },
        {
          "output_type": "display_data",
          "data": {
            "image/png": "[encoded data removed]",
            "text/plain": [
              "<Figure size 576x396 with 1 Axes>"
            ]
          },
          "metadata": {
            "tags": []
          }
        }
      ]
    },
    {
      "metadata": {
        "id": "9eMh1Yuetq3c"
      },
      "cell_type": "markdown",
      "source": [
        "### Defining the model"
      ]
    },
    {
      "metadata": {
        "id": "c66Qy3nMqT-1"
      },
      "cell_type": "code",
      "source": [
        "# Convolutional neural network (two convolutional layers)\n",
        "class ConvNet(nn.Module):\n",
        "    def __init__(self, num_classes=10):\n",
        "        super(ConvNet, self).__init__()\n",
        "        self.layer1 = nn.Sequential(\n",
        "            nn.Conv2d(1, 16, kernel_size=5, stride=1, padding=2),\n",
        "            nn.BatchNorm2d(16),\n",
        "            nn.ReLU(),\n",
        "            nn.MaxPool2d(kernel_size=2, stride=2))\n",
        "        self.layer2 = nn.Sequential(\n",
        "            nn.Conv2d(16, 32, kernel_size=5, stride=1, padding=2),\n",
        "            nn.BatchNorm2d(32),\n",
        "            nn.ReLU(),\n",
        "            nn.MaxPool2d(kernel_size=2, stride=2))\n",
        "        self.fc = nn.Linear(7*7*32, num_classes)\n",
        "        \n",
        "    def forward(self, x):\n",
        "        out = self.layer1(x)\n",
        "        out = self.layer2(out)\n",
        "        out = out.reshape(out.size(0), -1)\n",
        "        out = self.fc(out)\n",
        "        return out\n",
        "\n",
        "model = ConvNet(num_classes).to(device)\n",
        "\n",
        "# Loss and optimizer\n",
        "criterion = nn.CrossEntropyLoss()\n",
        "optimizer = torch.optim.Adam(model.parameters(), lr=learning_rate)"
      ],
      "execution_count": null,
      "outputs": []
    },
    {
      "metadata": {
        "id": "UirVTM-yueL9",
        "outputId": "79c62483-a264-4542-f41a-3ad2b9275054",
        "colab": {
          "base_uri": "https://localhost:8080/",
          "height": 272
        }
      },
      "cell_type": "code",
      "source": [
        "print(model)"
      ],
      "execution_count": null,
      "outputs": [
        {
          "output_type": "stream",
          "text": [
            "ConvNet(\n",
            "  (layer1): Sequential(\n",
            "    (0): Conv2d(1, 16, kernel_size=(5, 5), stride=(1, 1), padding=(2, 2))\n",
            "    (1): BatchNorm2d(16, eps=1e-05, momentum=0.1, affine=True, track_running_stats=True)\n",
            "    (2): ReLU()\n",
            "    (3): MaxPool2d(kernel_size=2, stride=2, padding=0, dilation=1, ceil_mode=False)\n",
            "  )\n",
            "  (layer2): Sequential(\n",
            "    (0): Conv2d(16, 32, kernel_size=(5, 5), stride=(1, 1), padding=(2, 2))\n",
            "    (1): BatchNorm2d(32, eps=1e-05, momentum=0.1, affine=True, track_running_stats=True)\n",
            "    (2): ReLU()\n",
            "    (3): MaxPool2d(kernel_size=2, stride=2, padding=0, dilation=1, ceil_mode=False)\n",
            "  )\n",
            "  (fc): Linear(in_features=1568, out_features=10, bias=True)\n",
            ")\n"
          ],
          "name": "stdout"
        }
      ]
    },
    {
      "metadata": {
        "id": "Z8pHu9o4wQ4Q"
      },
      "cell_type": "markdown",
      "source": [
        "### Check parameters of the model"
      ]
    },
    {
      "metadata": {
        "id": "0I7LnPhnwULS",
        "outputId": "e6162963-600b-4391-bf5c-17af7593e6fb",
        "colab": {
          "base_uri": "https://localhost:8080/",
          "height": 119
        }
      },
      "cell_type": "code",
      "source": [
        "print(model.layer1.parameters)"
      ],
      "execution_count": null,
      "outputs": [
        {
          "output_type": "stream",
          "text": [
            "<bound method Module.parameters of Sequential(\n",
            "  (0): Conv2d(1, 16, kernel_size=(5, 5), stride=(1, 1), padding=(2, 2))\n",
            "  (1): BatchNorm2d(16, eps=1e-05, momentum=0.1, affine=True, track_running_stats=True)\n",
            "  (2): ReLU()\n",
            "  (3): MaxPool2d(kernel_size=2, stride=2, padding=0, dilation=1, ceil_mode=False)\n",
            ")>\n"
          ],
          "name": "stdout"
        }
      ]
    },
    {
      "metadata": {
        "id": "UPuUXoK8vCID",
        "outputId": "34a88545-e7c3-48f5-bd97-a216cfcc807e",
        "colab": {
          "base_uri": "https://localhost:8080/",
          "height": 34
        }
      },
      "cell_type": "code",
      "source": [
        "# Check the convolution parameters\n",
        "list(model.layer1.parameters())[0].shape"
      ],
      "execution_count": null,
      "outputs": [
        {
          "output_type": "execute_result",
          "data": {
            "text/plain": [
              "torch.Size([16, 1, 5, 5])"
            ]
          },
          "metadata": {
            "tags": []
          },
          "execution_count": 11
        }
      ]
    },
    {
      "metadata": {
        "id": "JbElIMf1tfzK"
      },
      "cell_type": "markdown",
      "source": [
        "### Training"
      ]
    },
    {
      "metadata": {
        "id": "etenh_AUqQDC",
        "outputId": "0bb4ec3b-5bf8-4713-f5d1-87a6129def62",
        "colab": {
          "base_uri": "https://localhost:8080/",
          "height": 527
        }
      },
      "cell_type": "code",
      "source": [
        "# Train the model\n",
        "total_step = len(train_loader)\n",
        "for epoch in range(num_epochs):\n",
        "    for i, (images, labels) in enumerate(train_loader):\n",
        "        images = images.to(device)\n",
        "        labels = labels.to(device)\n",
        "        \n",
        "        # Forward pass\n",
        "        outputs = model(images)\n",
        "        loss = criterion(outputs, labels)\n",
        "        \n",
        "        # Backward and optimize\n",
        "        optimizer.zero_grad()\n",
        "        loss.backward()\n",
        "        optimizer.step()\n",
        "        \n",
        "        if (i+1) % 100 == 0:\n",
        "            print ('Epoch [{}/{}], Step [{}/{}], Loss: {:.4f}' \n",
        "                   .format(epoch+1, num_epochs, i+1, total_step, loss.item()))\n"
      ],
      "execution_count": null,
      "outputs": [
        {
          "output_type": "stream",
          "text": [
            "Epoch [1/5], Step [100/600], Loss: 0.1433\n",
            "Epoch [1/5], Step [200/600], Loss: 0.0854\n",
            "Epoch [1/5], Step [300/600], Loss: 0.0747\n",
            "Epoch [1/5], Step [400/600], Loss: 0.0847\n",
            "Epoch [1/5], Step [500/600], Loss: 0.0234\n",
            "Epoch [1/5], Step [600/600], Loss: 0.1008\n",
            "Epoch [2/5], Step [100/600], Loss: 0.1024\n",
            "Epoch [2/5], Step [200/600], Loss: 0.0219\n",
            "Epoch [2/5], Step [300/600], Loss: 0.0414\n",
            "Epoch [2/5], Step [400/600], Loss: 0.1012\n",
            "Epoch [2/5], Step [500/600], Loss: 0.0060\n",
            "Epoch [2/5], Step [600/600], Loss: 0.0359\n",
            "Epoch [3/5], Step [100/600], Loss: 0.0024\n",
            "Epoch [3/5], Step [200/600], Loss: 0.0200\n",
            "Epoch [3/5], Step [300/600], Loss: 0.0192\n",
            "Epoch [3/5], Step [400/600], Loss: 0.0235\n",
            "Epoch [3/5], Step [500/600], Loss: 0.0198\n",
            "Epoch [3/5], Step [600/600], Loss: 0.0158\n",
            "Epoch [4/5], Step [100/600], Loss: 0.0414\n",
            "Epoch [4/5], Step [200/600], Loss: 0.1056\n",
            "Epoch [4/5], Step [300/600], Loss: 0.0126\n",
            "Epoch [4/5], Step [400/600], Loss: 0.0657\n",
            "Epoch [4/5], Step [500/600], Loss: 0.0350\n",
            "Epoch [4/5], Step [600/600], Loss: 0.0020\n",
            "Epoch [5/5], Step [100/600], Loss: 0.0133\n",
            "Epoch [5/5], Step [200/600], Loss: 0.0697\n",
            "Epoch [5/5], Step [300/600], Loss: 0.0054\n",
            "Epoch [5/5], Step [400/600], Loss: 0.0053\n",
            "Epoch [5/5], Step [500/600], Loss: 0.0422\n",
            "Epoch [5/5], Step [600/600], Loss: 0.0244\n"
          ],
          "name": "stdout"
        }
      ]
    },
    {
      "metadata": {
        "id": "BXL4HBkItiG8"
      },
      "cell_type": "markdown",
      "source": [
        "### Testing"
      ]
    },
    {
      "metadata": {
        "id": "wSSFdjLjqN8K",
        "outputId": "1a2d9f5e-e97c-4485-b9e9-a0564f7b5fdf",
        "colab": {
          "base_uri": "https://localhost:8080/",
          "height": 34
        }
      },
      "cell_type": "code",
      "source": [
        "# Test the model\n",
        "model.eval()  # eval mode (batchnorm uses moving mean/variance instead of mini-batch mean/variance)\n",
        "with torch.no_grad():\n",
        "    correct = 0\n",
        "    total = 0\n",
        "    for images, labels in test_loader:\n",
        "        images = images.to(device)\n",
        "        labels = labels.to(device)\n",
        "        outputs = model(images)\n",
        "        _, predicted = torch.max(outputs.data, 1)\n",
        "        total += labels.size(0)\n",
        "        correct += (predicted == labels).sum().item()\n",
        "\n",
        "    print('Test Accuracy of the model on the 10000 test images: {} %'.format(100 * correct / total))\n"
      ],
      "execution_count": null,
      "outputs": [
        {
          "output_type": "stream",
          "text": [
            "Test Accuracy of the model on the 10000 test images: 99.09 %\n"
          ],
          "name": "stdout"
        }
      ]
    },
    {
      "metadata": {
        "id": "AYoOsml8qMOu"
      },
      "cell_type": "code",
      "source": [
        "# Save the model checkpoint\n",
        "torch.save(model.state_dict(), 'model.ckpt')"
      ],
      "execution_count": null,
      "outputs": []
    }
  ]
}