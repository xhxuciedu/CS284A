{
  "nbformat": 4,
  "nbformat_minor": 0,
  "metadata": {
    "colab": {
      "provenance": [],
      "authorship_tag": "ABX9TyOtnFvCyhm2JcbfPJAYbAgl",
      "include_colab_link": true
    },
    "kernelspec": {
      "name": "python3",
      "display_name": "Python 3"
    },
    "language_info": {
      "name": "python"
    }
  },
  "cells": [
    {
      "cell_type": "markdown",
      "metadata": {
        "id": "view-in-github",
        "colab_type": "text"
      },
      "source": [
        "<a href=\"https://colab.research.google.com/github/xhxuciedu/CS284A/blob/master/simple_neural_net_from_scratch.ipynb\" target=\"_parent\"><img src=\"https://colab.research.google.com/assets/colab-badge.svg\" alt=\"Open In Colab\"/></a>"
      ]
    },
    {
      "cell_type": "markdown",
      "source": [
        "## A basic example of a neural network for binary classification implemented in Python from scratch."
      ],
      "metadata": {
        "id": "FOYgXKQSOReR"
      }
    },
    {
      "cell_type": "markdown",
      "source": [
        "Let's build a simple neural network for binary classification using the sigmoid activation function and binary cross-entropy loss.\n",
        "\n",
        "1. **Binary Cross-Entropy Loss**: It is commonly used for binary classification\n",
        "problems. The formula is:\n",
        "\n",
        "$L(y, \\hat{y}) = -\\left( y \\log(\\hat{y}) + (1-y) \\log(1-\\hat{y}) \\right)$\n",
        "\n",
        "\n",
        "\n",
        "\n",
        "2.  **Sigmoid Activation**: Given an input \\( x \\), the sigmoid function returns a value between 0 and 1:\n",
        "\n",
        "$\\sigma(x) = \\frac{1}{1 + e^{-x}}$\n",
        "\n",
        "\n",
        "3.  **Gradient Descent**: We'll use gradient descent to update the weights and biases to minimize the loss.\n",
        "\n",
        "Here's the neural network implemented in Python:"
      ],
      "metadata": {
        "id": "DXSUQVMRPobL"
      }
    },
    {
      "cell_type": "code",
      "source": [
        "import numpy as np\n",
        "\n",
        "def sigmoid(x):\n",
        "    return 1 / (1 + np.exp(-x))\n",
        "\n",
        "def sigmoid_derivative(x):\n",
        "    return x * (1 - x)\n",
        "\n",
        "def binary_cross_entropy_loss(y_true, y_pred):\n",
        "    epsilon = 1e-15  # To prevent log(0)\n",
        "    y_pred = np.clip(y_pred, epsilon, 1 - epsilon)\n",
        "    return -np.mean(y_true * np.log(y_pred) + (1 - y_true) * np.log(1 - y_pred))\n"
      ],
      "metadata": {
        "id": "uzZOOzR8Pj_T"
      },
      "execution_count": 3,
      "outputs": []
    },
    {
      "cell_type": "code",
      "source": [
        "class NeuralNetwork:\n",
        "    def __init__(self, input_size, hidden_size, output_size):\n",
        "        self.weights_input_hidden = np.random.randn(input_size, hidden_size)\n",
        "        self.weights_hidden_output = np.random.randn(hidden_size, output_size)\n",
        "        self.bias_hidden = np.zeros((1, hidden_size))\n",
        "        self.bias_output = np.zeros((1, output_size))\n",
        "\n",
        "    def feedforward(self, X):\n",
        "        self.hidden = sigmoid(np.dot(X, self.weights_input_hidden) + self.bias_hidden)\n",
        "        self.output = sigmoid(np.dot(self.hidden, self.weights_hidden_output) + self.bias_output)\n",
        "        return self.output\n",
        "\n",
        "    def backpropagation(self, X, y, learning_rate):\n",
        "        d_loss_d_output = -(y / (self.output + 1e-15) - (1 - y) / (1 - self.output + 1e-15))\n",
        "        d_output_d_z = sigmoid_derivative(self.output)\n",
        "        hidden_layer_error = d_loss_d_output.dot(self.weights_hidden_output.T)\n",
        "        d_hidden_d_z = sigmoid_derivative(self.hidden)\n",
        "\n",
        "        self.weights_hidden_output -= learning_rate * self.hidden.T.dot(d_loss_d_output * d_output_d_z)\n",
        "        self.bias_output -= learning_rate * np.sum(d_loss_d_output * d_output_d_z, axis=0)\n",
        "        self.weights_input_hidden -= learning_rate * X.T.dot(hidden_layer_error * d_hidden_d_z)\n",
        "        self.bias_hidden -= learning_rate * np.sum(hidden_layer_error * d_hidden_d_z, axis=0)\n",
        "\n",
        "    def train(self, X, y, epochs, learning_rate):\n",
        "        for epoch in range(epochs):\n",
        "            y_pred = self.feedforward(X)\n",
        "            self.backpropagation(X, y, learning_rate)\n",
        "\n",
        "            if epoch % 1000 == 0:\n",
        "                loss = binary_cross_entropy_loss(y, y_pred)\n",
        "                print(f\"Epoch {epoch}, Loss: {loss:.4f}\")"
      ],
      "metadata": {
        "id": "lAdP9GaSQiRk"
      },
      "execution_count": 4,
      "outputs": []
    },
    {
      "cell_type": "code",
      "source": [
        "# Example data\n",
        "X = np.array([[0, 0], [0, 1], [1, 0], [1, 1]])\n",
        "y = np.array([[0], [1], [1], [0]])\n",
        "\n",
        "# Create and train the neural network\n",
        "np.random.seed(42)\n",
        "nn = NeuralNetwork(input_size=2, hidden_size=5, output_size=1)\n",
        "nn.train(X, y, epochs=10000, learning_rate=0.1)"
      ],
      "metadata": {
        "colab": {
          "base_uri": "https://localhost:8080/"
        },
        "id": "YZeEYPvvQ9sd",
        "outputId": "ee0d0b82-d46b-4a04-a382-322f04057206"
      },
      "execution_count": 18,
      "outputs": [
        {
          "output_type": "stream",
          "name": "stdout",
          "text": [
            "Epoch 0, Loss: 1.3156\n",
            "Epoch 1000, Loss: 0.0153\n",
            "Epoch 2000, Loss: 0.0057\n",
            "Epoch 3000, Loss: 0.0035\n",
            "Epoch 4000, Loss: 0.0026\n",
            "Epoch 5000, Loss: 0.0021\n",
            "Epoch 6000, Loss: 0.0017\n",
            "Epoch 7000, Loss: 0.0015\n",
            "Epoch 8000, Loss: 0.0013\n",
            "Epoch 9000, Loss: 0.0011\n"
          ]
        }
      ]
    },
    {
      "cell_type": "code",
      "source": [
        "y"
      ],
      "metadata": {
        "colab": {
          "base_uri": "https://localhost:8080/"
        },
        "id": "fPrdyz5ZSAxz",
        "outputId": "6aacfb95-5773-45dd-cca9-b22d7c7f0b89"
      },
      "execution_count": 19,
      "outputs": [
        {
          "output_type": "execute_result",
          "data": {
            "text/plain": [
              "array([[0],\n",
              "       [1],\n",
              "       [1],\n",
              "       [0]])"
            ]
          },
          "metadata": {},
          "execution_count": 19
        }
      ]
    },
    {
      "cell_type": "code",
      "source": [
        "nn.feedforward(X).flatten()>0.5"
      ],
      "metadata": {
        "colab": {
          "base_uri": "https://localhost:8080/"
        },
        "id": "ofXyh0VZRwpm",
        "outputId": "f5b7f8db-5a35-4e80-8dbb-ff1a38e8adbd"
      },
      "execution_count": 20,
      "outputs": [
        {
          "output_type": "execute_result",
          "data": {
            "text/plain": [
              "array([False,  True,  True, False])"
            ]
          },
          "metadata": {},
          "execution_count": 20
        }
      ]
    },
    {
      "cell_type": "markdown",
      "source": [
        "## Some Comments\n",
        "*  This script creates a simple neural network that can learn to solve the XOR\n",
        "problem—a problem where the output is true only when the inputs are different.\n",
        "\n",
        "*  Note that this example omits many aspects of a robust neural network, such as regularization, proper initialization strategies, advanced optimization techniques, and batch processing.\n",
        "\n",
        "*  The neural network defined here uses full-batch gradient descent, which means it updates weights using the gradients calculated on the entire dataset. For large datasets, mini-batch gradient descent or stochastic gradient descent is typically used."
      ],
      "metadata": {
        "id": "R_Oy6DDFOIK1"
      }
    },
    {
      "cell_type": "code",
      "source": [],
      "metadata": {
        "id": "CIqX9qBjOP-t"
      },
      "execution_count": null,
      "outputs": []
    }
  ]
}