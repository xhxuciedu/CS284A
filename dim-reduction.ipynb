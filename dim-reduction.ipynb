{
  "nbformat": 4,
  "nbformat_minor": 0,
  "metadata": {
    "colab": {
      "name": "dim-reduction.ipynb",
      "provenance": [],
      "authorship_tag": "ABX9TyMKyNvSj8t22Om/K0lSNcVq",
      "include_colab_link": true
    },
    "kernelspec": {
      "name": "python3",
      "display_name": "Python 3"
    }
  },
  "cells": [
    {
      "cell_type": "markdown",
      "metadata": {
        "id": "view-in-github",
        "colab_type": "text"
      },
      "source": [
        "<a href=\"https://colab.research.google.com/github/xhxuciedu/CS284A/blob/master/dim-reduction.ipynb\" target=\"_parent\"><img src=\"https://colab.research.google.com/assets/colab-badge.svg\" alt=\"Open In Colab\"/></a>"
      ]
    },
    {
      "cell_type": "code",
      "metadata": {
        "id": "2jT6FFNEHMfl"
      },
      "source": [
        "import numpy as np\n",
        "import pandas as pd\n",
        "import time\n",
        "\n",
        "# For plotting\n",
        "import plotly.io as plt_io\n",
        "import plotly.graph_objects as go\n",
        "\n",
        "#PCA\n",
        "from sklearn.decomposition import PCA\n",
        "#TSNE\n",
        "from sklearn.manifold import TSNE\n",
        "#UMAP\n",
        "import umap\n",
        "#LDA\n",
        "from sklearn.discriminant_analysis import LinearDiscriminantAnalysis as LDA"
      ],
      "execution_count": 1,
      "outputs": []
    },
    {
      "cell_type": "code",
      "metadata": {
        "id": "X-YlZePEHUAo"
      },
      "source": [
        "train = pd.read_csv('/kaggle/input/sign-language-mnist/sign_mnist_test/sign_mnist_test.csv')\n",
        "train.head()\n",
        "\n",
        "#picking only the first 10 labels\n",
        "train = train[train['label'] < 10]\n",
        "# Setting the label and the feature columns\n",
        "y = train.loc[:,'label'].values\n",
        "x = train.loc[:,'pixel1':].values\n",
        "#view raw\n"
      ],
      "execution_count": null,
      "outputs": []
    },
    {
      "cell_type": "code",
      "metadata": {
        "id": "7Z4Z7MqIG_wu"
      },
      "source": [
        "\n",
        "def plot_2d(component1, component2):\n",
        "    \n",
        "    fig = go.Figure(data=go.Scatter(\n",
        "        x = component1,\n",
        "        y = component2,\n",
        "        mode='markers',\n",
        "        marker=dict(\n",
        "            size=20,\n",
        "            color=y, #set color equal to a variable\n",
        "            colorscale='Rainbow', # one of plotly colorscales\n",
        "            showscale=True,\n",
        "            line_width=1\n",
        "        )\n",
        "    ))\n",
        "    fig.update_layout(margin=dict( l=100,r=100,b=100,t=100),width=2000,height=1200)                 \n",
        "    fig.layout.template = 'plotly_dark'\n",
        "    \n",
        "    fig.show()\n",
        "\n",
        "\n",
        "def plot_3d(component1,component2,component3):\n",
        "fig = go.Figure(data=[go.Scatter3d(\n",
        "        x=component1,\n",
        "        y=component2,\n",
        "        z=component3,\n",
        "        mode='markers',\n",
        "        marker=dict(\n",
        "            size=10,\n",
        "            color=y,                # set color to an array/list of desired values\n",
        "            colorscale='Rainbow',   # choose a colorscale\n",
        "            opacity=1,\n",
        "            line_width=1\n",
        "        )\n",
        "    )])\n",
        "# tight layout\n",
        "    fig.update_layout(margin=dict(l=50,r=50,b=50,t=50),width=1800,height=1000)\n",
        "    fig.layout.template = 'plotly_dark'\n",
        "    \n",
        "    fig.show()\n",
        "\n"
      ],
      "execution_count": null,
      "outputs": []
    },
    {
      "cell_type": "code",
      "metadata": {
        "id": "h-mTEwQ8HLVp"
      },
      "source": [
        ""
      ],
      "execution_count": null,
      "outputs": []
    }
  ]
}