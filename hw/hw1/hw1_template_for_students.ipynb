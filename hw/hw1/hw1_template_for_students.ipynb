{
 "cells": [
  {
   "cell_type": "markdown",
   "id": "c1e0e8a1",
   "metadata": {},
   "source": [
    "# Requirements\n",
    "\n",
    "Make sure to install python 3.9 or above, along with the following libraries: matplotlib, scikit-learn and numpy\n"
   ]
  },
  {
   "cell_type": "markdown",
   "id": "44e66230",
   "metadata": {},
   "source": [
    "# Porblem 1"
   ]
  },
  {
   "cell_type": "markdown",
   "id": "7abdb607",
   "metadata": {},
   "source": [
    "## read data using numpy"
   ]
  },
  {
   "cell_type": "code",
   "execution_count": 2,
   "id": "78e66678",
   "metadata": {},
   "outputs": [],
   "source": [
    "import numpy as np\n",
    "import matplotlib.pyplot as plt\n",
    "\n",
    "iris = np.genfromtxt(\"data/iris.txt\", delimiter=None)  # load the text file\n",
    "Y = iris[:, -1]                                       # target value is the last column\n",
    "X = iris[:, 0:-1]                                     # features are the other columns\n"
   ]
  },
  {
   "cell_type": "markdown",
   "id": "7c620076",
   "metadata": {},
   "source": [
    "## 1.1. shape"
   ]
  },
  {
   "cell_type": "code",
   "execution_count": null,
   "id": "151dbe50",
   "metadata": {},
   "outputs": [],
   "source": [
    "# TODO: Your code here"
   ]
  },
  {
   "cell_type": "markdown",
   "id": "bfcf310d",
   "metadata": {},
   "source": [
    "## 1.2. hist"
   ]
  },
  {
   "cell_type": "code",
   "execution_count": null,
   "id": "6093aabb",
   "metadata": {},
   "outputs": [],
   "source": [
    "# TODO: Your code here"
   ]
  },
  {
   "cell_type": "markdown",
   "id": "d54d3eed",
   "metadata": {},
   "source": [
    "## 1.3 mean and std"
   ]
  },
  {
   "cell_type": "code",
   "execution_count": null,
   "id": "b5e7b2ea",
   "metadata": {},
   "outputs": [],
   "source": [
    "# TODO: Your code here"
   ]
  },
  {
   "cell_type": "markdown",
   "id": "ae989d7e",
   "metadata": {},
   "source": [
    "## 1.4 scatter plots"
   ]
  },
  {
   "cell_type": "code",
   "execution_count": null,
   "id": "7d59ce52",
   "metadata": {},
   "outputs": [],
   "source": [
    "# TODO : Your code here"
   ]
  },
  {
   "cell_type": "markdown",
   "id": "1ddb3fe2",
   "metadata": {},
   "source": [
    "# Problem 2"
   ]
  },
  {
   "cell_type": "markdown",
   "id": "f2cc25fd",
   "metadata": {},
   "source": [
    "## load data and split"
   ]
  },
  {
   "cell_type": "code",
   "execution_count": 3,
   "id": "bfd4a54c",
   "metadata": {},
   "outputs": [],
   "source": [
    "np.random.seed(0)  # set random seed for reproducibility\n",
    "\n",
    "iris = np.genfromtxt(\"data/iris.txt\", delimiter=None)  # load the data\n",
    "Y = iris[:, -1]\n",
    "X = iris[:, :-1]  \n",
    "\n",
    "# Note: indexing with \":\" indicates all values (in this case, all rows);\n",
    "#       indexing with a value (\"0\", \"1\", \"-1\", etc.) extracts only that value (here, columns);\n",
    "#       indexing rows/columns with a range (\"1:-1\") extracts any row/column in that range.\n",
    "\n",
    "\n",
    "from sklearn.model_selection import train_test_split\n",
    "\n",
    "Xtr, Xva, Ytr, Yva = train_test_split(\n",
    "    X, Y, test_size=0.25, random_state=0, stratify=Y, shuffle=True\n",
    ")"
   ]
  },
  {
   "cell_type": "markdown",
   "id": "d4144048",
   "metadata": {},
   "source": [
    "## How KNN works"
   ]
  },
  {
   "cell_type": "code",
   "execution_count": 4,
   "id": "ce16d699",
   "metadata": {},
   "outputs": [],
   "source": [
    "from sklearn.neighbors import KNeighborsClassifier  \n",
    " \n",
    "K = 1   # K is an integer, e.g. 1 for nearest neighbor prediction\n",
    "knn = KNeighborsClassifier(n_neighbors=K)  # create the knn classifier model \n",
    "knn.fit(Xtr, Ytr)  # train the classifer\n",
    "Yva_hat = knn.predict(Xva)  # get estimates of y for each data point in Xva"
   ]
  },
  {
   "cell_type": "markdown",
   "id": "7cd46673",
   "metadata": {},
   "source": [
    "## Plotting function"
   ]
  },
  {
   "cell_type": "code",
   "execution_count": null,
   "id": "fa1d14b1",
   "metadata": {},
   "outputs": [],
   "source": [
    "import numpy as np\n",
    "import matplotlib.pyplot as plt\n",
    "from matplotlib.colors import ListedColormap\n",
    "\n",
    "def plot_decision_regions_2d(model, X2d, Y, grid_step=0.02, padding=0.5):\n",
    "    \"\"\"\n",
    "    Plot 2D decision regions for a trained classifier with consistent colors.\n",
    "\n",
    "    Parameters\n",
    "    ----------\n",
    "    model : fitted classifier with .predict()\n",
    "    X2d : (n_samples, 2)\n",
    "    Y : (n_samples,)\n",
    "    grid_step : mesh resolution\n",
    "    padding : extra margin around data\n",
    "    \"\"\"\n",
    "    # Define consistent color maps\n",
    "    unique_classes = np.unique(Y)\n",
    "    n_classes = len(unique_classes)\n",
    "\n",
    "    # Use a subset of matplotlib's default tab10 colormap\n",
    "    cmap = plt.cm.get_cmap('tab10', n_classes)\n",
    "    colors = [cmap(i) for i in range(n_classes)]\n",
    "    cmap_background = ListedColormap(colors)\n",
    "\n",
    "    # Create grid\n",
    "    x_min, x_max = X2d[:, 0].min() - padding, X2d[:, 0].max() + padding\n",
    "    y_min, y_max = X2d[:, 1].min() - padding, X2d[:, 1].max() + padding\n",
    "    xx, yy = np.meshgrid(\n",
    "        np.arange(x_min, x_max, grid_step),\n",
    "        np.arange(y_min, y_max, grid_step)\n",
    "    )\n",
    "\n",
    "    # Predict over grid\n",
    "    Z = model.predict(np.c_[xx.ravel(), yy.ravel()])\n",
    "    Z = Z.reshape(xx.shape)\n",
    "\n",
    "    # Plot decision regions\n",
    "    plt.contourf(xx, yy, Z, alpha=0.3, cmap=cmap_background)\n",
    "\n",
    "    # Plot points with matching colors\n",
    "    for i, c in zip(unique_classes, colors):\n",
    "        plt.scatter(X2d[Y == i, 0], X2d[Y == i, 1],\n",
    "                    c=[c], edgecolor='k', s=20, label=f\"class {i}\")\n",
    "\n",
    "    plt.xlim(xx.min(), xx.max())\n",
    "    plt.ylim(yy.min(), yy.max())\n",
    "    plt.legend(frameon=False)\n",
    "\n",
    "\n",
    "## you can use this function like this: plot_decision_regions_2d(knn, Xtr, Ytr) "
   ]
  },
  {
   "cell_type": "markdown",
   "id": "146761d9",
   "metadata": {},
   "source": [
    "## 2.1 decision boundary"
   ]
  },
  {
   "cell_type": "code",
   "execution_count": null,
   "id": "625ff813",
   "metadata": {},
   "outputs": [],
   "source": [
    "# TDOD: get first two features of data\n",
    "# TODO: plot decision boudaries for K = [1, 5, 10, 50]"
   ]
  },
  {
   "cell_type": "markdown",
   "id": "ac8de0eb",
   "metadata": {},
   "source": [
    "## 2.2 error rates"
   ]
  },
  {
   "cell_type": "code",
   "execution_count": null,
   "id": "6e554e50",
   "metadata": {},
   "outputs": [],
   "source": [
    "K=[1,2,5,10,50,100]\n",
    "\n",
    "errTrain = np.zeros(len(K))\n",
    "errVal = np.zeros(len(K))\n",
    "\n",
    "for i,k in enumerate(K):\n",
    "    learner = KNeighborsClassifier(...  # TODO: create and train a k-NN learner\n",
    "    Yhat = learner.predict(... # TODO: predict results on training data\n",
    "    errTrain[i] = ... # TODO: count what fraction of predictions are wrong\n",
    "    #TODO: repeat prediction / error evaluation for validation data\n",
    "    \n",
    "\n",
    "plt.semilogx(... # TODO: plot training and validation error vs. K"
   ]
  },
  {
   "cell_type": "markdown",
   "id": "35b6acf2",
   "metadata": {},
   "source": [
    "## reasoning on value of K"
   ]
  },
  {
   "cell_type": "markdown",
   "id": "fa46b6fc",
   "metadata": {},
   "source": [
    "todo ...."
   ]
  },
  {
   "cell_type": "markdown",
   "id": "829013ca",
   "metadata": {},
   "source": [
    "## 2.3 error bars with all features"
   ]
  },
  {
   "cell_type": "code",
   "execution_count": null,
   "id": "3ca33b21",
   "metadata": {},
   "outputs": [],
   "source": [
    "## TODO: Your code here"
   ]
  },
  {
   "cell_type": "markdown",
   "id": "1defd32d",
   "metadata": {},
   "source": [
    "## your explanations "
   ]
  },
  {
   "cell_type": "markdown",
   "id": "5a0d91db",
   "metadata": {},
   "source": [
    "todo ..."
   ]
  },
  {
   "cell_type": "markdown",
   "id": "d9021b68",
   "metadata": {},
   "source": [
    "# 3- Statement of collaboation"
   ]
  },
  {
   "cell_type": "markdown",
   "id": "578e27f8",
   "metadata": {},
   "source": []
  }
 ],
 "metadata": {
  "kernelspec": {
   "display_name": ".venv (3.9.6)",
   "language": "python",
   "name": "python3"
  },
  "language_info": {
   "codemirror_mode": {
    "name": "ipython",
    "version": 3
   },
   "file_extension": ".py",
   "mimetype": "text/x-python",
   "name": "python",
   "nbconvert_exporter": "python",
   "pygments_lexer": "ipython3",
   "version": "3.9.6"
  }
 },
 "nbformat": 4,
 "nbformat_minor": 5
}
