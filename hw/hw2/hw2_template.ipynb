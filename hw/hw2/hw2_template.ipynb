{
 "cells": [
  {
   "cell_type": "code",
   "execution_count": null,
   "id": "01384acd",
   "metadata": {},
   "outputs": [],
   "source": [
    "import numpy as np\n",
    "import matplotlib.pyplot as plt\n",
    "from sklearn.model_selection import train_test_split\n",
    "from sklearn.linear_model import LinearRegression\n",
    "from sklearn.preprocessing import PolynomialFeatures, StandardScaler\n",
    "from sklearn.model_selection import KFold"
   ]
  },
  {
   "cell_type": "markdown",
   "id": "c6ee73cf",
   "metadata": {},
   "source": [
    "# Problem 1: Linear Regression"
   ]
  },
  {
   "cell_type": "code",
   "execution_count": null,
   "id": "21c179df",
   "metadata": {},
   "outputs": [],
   "source": [
    "# TODO 1.1"
   ]
  },
  {
   "cell_type": "code",
   "execution_count": null,
   "id": "30c5c032",
   "metadata": {},
   "outputs": [],
   "source": [
    "# TODO 1.2"
   ]
  },
  {
   "cell_type": "code",
   "execution_count": null,
   "id": "7712bfd4",
   "metadata": {},
   "outputs": [],
   "source": [
    "# TODO 1.3"
   ]
  },
  {
   "cell_type": "markdown",
   "id": "1246e0a6",
   "metadata": {},
   "source": [
    "# Problem 2: Cross-validation"
   ]
  },
  {
   "cell_type": "code",
   "execution_count": null,
   "id": "3f579a28",
   "metadata": {},
   "outputs": [],
   "source": [
    "# TODO 2.1"
   ]
  },
  {
   "cell_type": "code",
   "execution_count": null,
   "id": "9c32ddd4",
   "metadata": {},
   "outputs": [],
   "source": [
    "# TODO 2.2"
   ]
  },
  {
   "cell_type": "code",
   "execution_count": null,
   "id": "b060a3ce",
   "metadata": {},
   "outputs": [],
   "source": [
    "# TODO 2.3"
   ]
  },
  {
   "cell_type": "code",
   "execution_count": null,
   "id": "8adbd2b5",
   "metadata": {},
   "outputs": [],
   "source": [
    "# TODO 2.4"
   ]
  },
  {
   "cell_type": "markdown",
   "id": "278d633f",
   "metadata": {},
   "source": [
    "# Statement of Collaboration"
   ]
  },
  {
   "cell_type": "markdown",
   "id": "295c03a5",
   "metadata": {},
   "source": []
  }
 ],
 "metadata": {
  "language_info": {
   "name": "python"
  }
 },
 "nbformat": 4,
 "nbformat_minor": 5
}
